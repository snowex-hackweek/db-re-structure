{
 "cells": [
  {
   "cell_type": "markdown",
   "metadata": {},
   "source": [
    "1. **Category**: A table for different categories of instruments (e.g., String Instruments, Wind Instruments).\n",
    "2. **Instrument**: A table for instruments that belong to a category.\n",
    "3. **Manufacturer**: A table for the manufacturers of instruments.\n",
    "3. **InstrumentManufacturer**: A join table to handle the many-to-many relationship between instruments and manufacturers."
   ]
  },
  {
   "cell_type": "markdown",
   "metadata": {},
   "source": [
    "## Load Libraries"
   ]
  },
  {
   "cell_type": "code",
   "execution_count": 18,
   "metadata": {},
   "outputs": [],
   "source": [
    "from eralchemy2 import render_er\n",
    "from sqlalchemy.orm import relationship, sessionmaker, declarative_base\n",
    "from sqlalchemy import create_engine, Column, Integer, String, ForeignKey, Table"
   ]
  },
  {
   "cell_type": "code",
   "execution_count": 19,
   "metadata": {},
   "outputs": [],
   "source": [
    "# Create an SQLite database\n",
    "engine = create_engine('sqlite:///synthetic.db', echo=False) # Set to True to see SQL commands\n",
    "\n",
    "# Define a base class for our models\n",
    "Base = declarative_base()\n",
    "\n",
    "# Many-to-Many Relationship Table\n",
    "instrument_manufacturer = Table('instrument_manufacturer', Base.metadata,\n",
    "    Column('instrument_id', Integer, ForeignKey('instruments.id'), primary_key=True),\n",
    "    Column('manufacturer_id', Integer, ForeignKey('manufacturers.id'), primary_key=True)\n",
    ")"
   ]
  },
  {
   "cell_type": "code",
   "execution_count": 20,
   "metadata": {},
   "outputs": [],
   "source": [
    "# Define the Category table\n",
    "class Category(Base):\n",
    "    __tablename__ = 'categories'\n",
    "    \n",
    "    id = Column(Integer, primary_key=True)\n",
    "    name = Column(String, nullable=False)\n",
    "\n",
    "    instruments = relationship(\"Instrument\", back_populates=\"category\")\n",
    "\n",
    "# Define the Instrument table\n",
    "class Instrument(Base):\n",
    "    __tablename__ = 'instruments'\n",
    "    \n",
    "    id = Column(Integer, primary_key=True)\n",
    "    name = Column(String, nullable=False)\n",
    "    category_id = Column(Integer, ForeignKey('categories.id'))\n",
    "    \n",
    "    category = relationship(\"Category\", back_populates=\"instruments\")\n",
    "    manufacturers = relationship(\"Manufacturer\", secondary=instrument_manufacturer, back_populates=\"instruments\")\n",
    "\n",
    "# Define the Manufacturer table\n",
    "class Manufacturer(Base):\n",
    "    __tablename__ = 'manufacturers'\n",
    "    \n",
    "    id = Column(Integer, primary_key=True)\n",
    "    name = Column(String, nullable=False)\n",
    "    \n",
    "    instruments = relationship(\"Instrument\", secondary=instrument_manufacturer, back_populates=\"manufacturers\")\n",
    "\n",
    "# Create all tables\n",
    "Base.metadata.create_all(engine)"
   ]
  },
  {
   "cell_type": "markdown",
   "metadata": {},
   "source": [
    "## Step 2: Creating a Session and Adding Data\n",
    "\n",
    "Now, let's add some data to these tables."
   ]
  },
  {
   "cell_type": "code",
   "execution_count": 21,
   "metadata": {},
   "outputs": [],
   "source": [
    "# Create a session\n",
    "Session = sessionmaker(bind=engine)\n",
    "session = Session()\n",
    "\n",
    "# Create categories\n",
    "string_category = Category(name=\"String Instruments\")\n",
    "wind_category = Category(name=\"Wind Instruments\")\n",
    "\n",
    "# Create instruments\n",
    "violin = Instrument(name=\"Violin\", category=string_category)\n",
    "flute = Instrument(name=\"Flute\", category=wind_category)\n",
    "\n",
    "# Create manufacturers\n",
    "yamaha = Manufacturer(name=\"Yamaha\")\n",
    "stradivarius = Manufacturer(name=\"Stradivarius\")\n",
    "\n",
    "# Establish relationships between instruments and manufacturers\n",
    "violin.manufacturers.append(stradivarius)\n",
    "violin.manufacturers.append(yamaha)\n",
    "flute.manufacturers.append(yamaha)\n",
    "\n",
    "# Add to session\n",
    "session.add(string_category)\n",
    "session.add(wind_category)\n",
    "session.add(violin)\n",
    "session.add(flute)\n",
    "session.add(yamaha)\n",
    "session.add(stradivarius)\n",
    "\n",
    "# Commit the session to write to the database\n",
    "session.commit()"
   ]
  },
  {
   "cell_type": "code",
   "execution_count": 22,
   "metadata": {},
   "outputs": [
    {
     "name": "stdout",
     "output_type": "stream",
     "text": [
      "Categories Table:\n"
     ]
    },
    {
     "data": {
      "text/html": [
       "<div>\n",
       "<style scoped>\n",
       "    .dataframe tbody tr th:only-of-type {\n",
       "        vertical-align: middle;\n",
       "    }\n",
       "\n",
       "    .dataframe tbody tr th {\n",
       "        vertical-align: top;\n",
       "    }\n",
       "\n",
       "    .dataframe thead th {\n",
       "        text-align: right;\n",
       "    }\n",
       "</style>\n",
       "<table border=\"1\" class=\"dataframe\">\n",
       "  <thead>\n",
       "    <tr style=\"text-align: right;\">\n",
       "      <th></th>\n",
       "      <th>id</th>\n",
       "      <th>name</th>\n",
       "    </tr>\n",
       "  </thead>\n",
       "  <tbody>\n",
       "    <tr>\n",
       "      <th>0</th>\n",
       "      <td>1</td>\n",
       "      <td>String Instruments</td>\n",
       "    </tr>\n",
       "    <tr>\n",
       "      <th>1</th>\n",
       "      <td>2</td>\n",
       "      <td>Wind Instruments</td>\n",
       "    </tr>\n",
       "  </tbody>\n",
       "</table>\n",
       "</div>"
      ],
      "text/plain": [
       "   id                name\n",
       "0   1  String Instruments\n",
       "1   2    Wind Instruments"
      ]
     },
     "metadata": {},
     "output_type": "display_data"
    },
    {
     "name": "stdout",
     "output_type": "stream",
     "text": [
      "\n",
      "Instruments Table:\n"
     ]
    },
    {
     "data": {
      "text/html": [
       "<div>\n",
       "<style scoped>\n",
       "    .dataframe tbody tr th:only-of-type {\n",
       "        vertical-align: middle;\n",
       "    }\n",
       "\n",
       "    .dataframe tbody tr th {\n",
       "        vertical-align: top;\n",
       "    }\n",
       "\n",
       "    .dataframe thead th {\n",
       "        text-align: right;\n",
       "    }\n",
       "</style>\n",
       "<table border=\"1\" class=\"dataframe\">\n",
       "  <thead>\n",
       "    <tr style=\"text-align: right;\">\n",
       "      <th></th>\n",
       "      <th>id</th>\n",
       "      <th>name</th>\n",
       "      <th>category_id</th>\n",
       "    </tr>\n",
       "  </thead>\n",
       "  <tbody>\n",
       "    <tr>\n",
       "      <th>0</th>\n",
       "      <td>1</td>\n",
       "      <td>Violin</td>\n",
       "      <td>1</td>\n",
       "    </tr>\n",
       "    <tr>\n",
       "      <th>1</th>\n",
       "      <td>2</td>\n",
       "      <td>Flute</td>\n",
       "      <td>2</td>\n",
       "    </tr>\n",
       "  </tbody>\n",
       "</table>\n",
       "</div>"
      ],
      "text/plain": [
       "   id    name  category_id\n",
       "0   1  Violin            1\n",
       "1   2   Flute            2"
      ]
     },
     "metadata": {},
     "output_type": "display_data"
    },
    {
     "name": "stdout",
     "output_type": "stream",
     "text": [
      "\n",
      "Manufacturers Table:\n"
     ]
    },
    {
     "data": {
      "text/html": [
       "<div>\n",
       "<style scoped>\n",
       "    .dataframe tbody tr th:only-of-type {\n",
       "        vertical-align: middle;\n",
       "    }\n",
       "\n",
       "    .dataframe tbody tr th {\n",
       "        vertical-align: top;\n",
       "    }\n",
       "\n",
       "    .dataframe thead th {\n",
       "        text-align: right;\n",
       "    }\n",
       "</style>\n",
       "<table border=\"1\" class=\"dataframe\">\n",
       "  <thead>\n",
       "    <tr style=\"text-align: right;\">\n",
       "      <th></th>\n",
       "      <th>id</th>\n",
       "      <th>name</th>\n",
       "    </tr>\n",
       "  </thead>\n",
       "  <tbody>\n",
       "    <tr>\n",
       "      <th>0</th>\n",
       "      <td>1</td>\n",
       "      <td>Stradivarius</td>\n",
       "    </tr>\n",
       "    <tr>\n",
       "      <th>1</th>\n",
       "      <td>2</td>\n",
       "      <td>Yamaha</td>\n",
       "    </tr>\n",
       "  </tbody>\n",
       "</table>\n",
       "</div>"
      ],
      "text/plain": [
       "   id          name\n",
       "0   1  Stradivarius\n",
       "1   2        Yamaha"
      ]
     },
     "metadata": {},
     "output_type": "display_data"
    },
    {
     "name": "stdout",
     "output_type": "stream",
     "text": [
      "\n",
      "Instrument_Manufacturer Table:\n"
     ]
    },
    {
     "data": {
      "text/html": [
       "<div>\n",
       "<style scoped>\n",
       "    .dataframe tbody tr th:only-of-type {\n",
       "        vertical-align: middle;\n",
       "    }\n",
       "\n",
       "    .dataframe tbody tr th {\n",
       "        vertical-align: top;\n",
       "    }\n",
       "\n",
       "    .dataframe thead th {\n",
       "        text-align: right;\n",
       "    }\n",
       "</style>\n",
       "<table border=\"1\" class=\"dataframe\">\n",
       "  <thead>\n",
       "    <tr style=\"text-align: right;\">\n",
       "      <th></th>\n",
       "      <th>instrument_id</th>\n",
       "      <th>manufacturer_id</th>\n",
       "    </tr>\n",
       "  </thead>\n",
       "  <tbody>\n",
       "    <tr>\n",
       "      <th>0</th>\n",
       "      <td>1</td>\n",
       "      <td>1</td>\n",
       "    </tr>\n",
       "    <tr>\n",
       "      <th>1</th>\n",
       "      <td>1</td>\n",
       "      <td>2</td>\n",
       "    </tr>\n",
       "    <tr>\n",
       "      <th>2</th>\n",
       "      <td>2</td>\n",
       "      <td>2</td>\n",
       "    </tr>\n",
       "  </tbody>\n",
       "</table>\n",
       "</div>"
      ],
      "text/plain": [
       "   instrument_id  manufacturer_id\n",
       "0              1                1\n",
       "1              1                2\n",
       "2              2                2"
      ]
     },
     "metadata": {},
     "output_type": "display_data"
    }
   ],
   "source": [
    "import pandas as pd\n",
    "\n",
    "# Load each table into a Pandas DataFrame\n",
    "categories_df = pd.read_sql_table('categories', engine)\n",
    "instruments_df = pd.read_sql_table('instruments', engine)\n",
    "manufacturers_df = pd.read_sql_table('manufacturers', engine)\n",
    "instrument_manufacturer_df = pd.read_sql_table('instrument_manufacturer', engine)\n",
    "\n",
    "# Display the contents of each DataFrame\n",
    "print(\"Categories Table:\")\n",
    "display(categories_df)\n",
    "\n",
    "print(\"\\nInstruments Table:\")\n",
    "display(instruments_df)\n",
    "\n",
    "print(\"\\nManufacturers Table:\")\n",
    "display(manufacturers_df)\n",
    "\n",
    "print(\"\\nInstrument_Manufacturer Table:\")\n",
    "display(instrument_manufacturer_df)"
   ]
  },
  {
   "cell_type": "markdown",
   "metadata": {},
   "source": [
    "## Generate ER"
   ]
  },
  {
   "cell_type": "code",
   "execution_count": 23,
   "metadata": {},
   "outputs": [],
   "source": [
    "# Generate ER diagram and save it as a file\n",
    "render_er('sqlite:///synthetic.db', 'synthetic_db_erd.png')"
   ]
  }
 ],
 "metadata": {
  "kernelspec": {
   "display_name": "Python 3",
   "language": "python",
   "name": "python3"
  },
  "language_info": {
   "codemirror_mode": {
    "name": "ipython",
    "version": 3
   },
   "file_extension": ".py",
   "mimetype": "text/x-python",
   "name": "python",
   "nbconvert_exporter": "python",
   "pygments_lexer": "ipython3",
   "version": "3.11.5"
  }
 },
 "nbformat": 4,
 "nbformat_minor": 2
}
