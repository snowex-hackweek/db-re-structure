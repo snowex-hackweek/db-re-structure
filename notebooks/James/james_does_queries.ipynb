{
 "cells": [
  {
   "cell_type": "markdown",
   "id": "9094ce6a-8633-4784-9135-ff3e98d065aa",
   "metadata": {},
   "source": [
    "### James explores some queries"
   ]
  },
  {
   "cell_type": "code",
   "execution_count": 1,
   "id": "991bc74e-eac0-4798-95ff-663588c36732",
   "metadata": {},
   "outputs": [],
   "source": [
    "import pprint as pp\n",
    "\n",
    "from snowexsql.api import PointMeasurements"
   ]
  },
  {
   "cell_type": "code",
   "execution_count": 2,
   "id": "9c8f4e49-e4ef-446b-b547-d293c08fc766",
   "metadata": {},
   "outputs": [
    {
     "name": "stdout",
     "output_type": "stream",
     "text": [
      "['mesa',\n",
      " 'magnaprobe',\n",
      " 'camera',\n",
      " 'pulseEkko pro 1 GHz GPR',\n",
      " 'Mala 1600 MHz GPR',\n",
      " None,\n",
      " 'Mala 800 MHz GPR',\n",
      " 'pulse EKKO Pro multi-polarization 1 GHz GPR',\n",
      " 'pit ruler']\n",
      "['American River Basin',\n",
      " 'Central Ag Research Center',\n",
      " 'Senator Beck',\n",
      " 'farmers-creamers',\n",
      " None,\n",
      " 'Fairbanks',\n",
      " 'Fraser Experimental Forest',\n",
      " 'Boise River Basin',\n",
      " 'Little Cottonwood Canyon',\n",
      " 'East River',\n",
      " 'North Slope',\n",
      " 'Jemez River',\n",
      " 'Grand Mesa',\n",
      " 'Cameron Pass',\n",
      " 'Sagehen Creek',\n",
      " 'Mammoth Lakes',\n",
      " 'Niwot Ridge']\n"
     ]
    }
   ],
   "source": [
    "pt_measurements = PointMeasurements()\n",
    "\n",
    "instrument_types = pt_measurements.all_instruments\n",
    "site_names = pt_measurements.all_site_names\n",
    "\n",
    "pp.pp(instrument_types)\n",
    "pp.pp(site_names)"
   ]
  },
  {
   "cell_type": "code",
   "execution_count": 4,
   "id": "363f30cb-656c-4871-95e3-7e1a46e9b4b1",
   "metadata": {},
   "outputs": [
    {
     "name": "stdout",
     "output_type": "stream",
     "text": [
      "1000\n",
      "337816\n"
     ]
    }
   ],
   "source": [
    "# Start with the instrument\n",
    "# Set the limit really high ~1,000,000\n",
    "\n",
    "small_ekko_df = PointMeasurements.from_filter(\n",
    "    instrument='pulseEkko pro 1 GHz GPR',\n",
    "    limit=1000,\n",
    ")\n",
    "\n",
    "# big_ekko_df = PointMeasurements.from_filter(\n",
    "#     instrument='pulseEkko pro 1 GHz GPR',\n",
    "#     limit=1000000,\n",
    "# )\n",
    "\n",
    "\"\"\"\n",
    "Add an aditional query with instrument (e.g. Site)\n",
    "\"\"\"\n",
    "\n",
    "site_small_ekko_df = PointMeasurements.from_filter(\n",
    "    site_name='farmers-creamers',\n",
    "    instrument='pulseEkko pro 1 GHz GPR',\n",
    "    limit=1000\n",
    ")\n",
    "\n",
    "site_big_ekko_df = PointMeasurements.from_filter(\n",
    "    site_name='farmers-creamers',\n",
    "    instrument='pulseEkko pro 1 GHz GPR',\n",
    "    limit=1000000\n",
    ")\n",
    "\n",
    "print(len(site_big_ekko_df))"
   ]
  },
  {
   "cell_type": "code",
   "execution_count": null,
   "id": "54b3ce68-86e8-40c9-ad36-a89cae625222",
   "metadata": {},
   "outputs": [],
   "source": [
    "site_small_ekk"
   ]
  }
 ],
 "metadata": {
  "kernelspec": {
   "display_name": "Python 3 (ipykernel)",
   "language": "python",
   "name": "python3"
  },
  "language_info": {
   "codemirror_mode": {
    "name": "ipython",
    "version": 3
   },
   "file_extension": ".py",
   "mimetype": "text/x-python",
   "name": "python",
   "nbconvert_exporter": "python",
   "pygments_lexer": "ipython3",
   "version": "3.11.9"
  }
 },
 "nbformat": 4,
 "nbformat_minor": 5
}
