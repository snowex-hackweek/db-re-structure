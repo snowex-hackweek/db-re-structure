{
 "cells": [
  {
   "cell_type": "markdown",
   "id": "9094ce6a-8633-4784-9135-ff3e98d065aa",
   "metadata": {},
   "source": [
    "### James explores some queries"
   ]
  },
  {
   "cell_type": "code",
   "execution_count": 17,
   "id": "991bc74e-eac0-4798-95ff-663588c36732",
   "metadata": {},
   "outputs": [],
   "source": [
    "import pprint as pp\n",
    "import time\n",
    "\n",
    "from snowexsql.api import PointMeasurements"
   ]
  },
  {
   "cell_type": "code",
   "execution_count": 18,
   "id": "9c8f4e49-e4ef-446b-b547-d293c08fc766",
   "metadata": {},
   "outputs": [
    {
     "name": "stdout",
     "output_type": "stream",
     "text": [
      "['mesa',\n",
      " 'magnaprobe',\n",
      " 'camera',\n",
      " 'pulseEkko pro 1 GHz GPR',\n",
      " None,\n",
      " 'Mala 1600 MHz GPR',\n",
      " 'Mala 800 MHz GPR',\n",
      " 'pulse EKKO Pro multi-polarization 1 GHz GPR',\n",
      " 'pit ruler']\n",
      "['American River Basin',\n",
      " 'Central Ag Research Center',\n",
      " 'Senator Beck',\n",
      " 'farmers-creamers',\n",
      " 'Fairbanks',\n",
      " None,\n",
      " 'Fraser Experimental Forest',\n",
      " 'Boise River Basin',\n",
      " 'Little Cottonwood Canyon',\n",
      " 'East River',\n",
      " 'North Slope',\n",
      " 'Jemez River',\n",
      " 'Grand Mesa',\n",
      " 'Cameron Pass',\n",
      " 'Sagehen Creek',\n",
      " 'Mammoth Lakes',\n",
      " 'Niwot Ridge']\n",
      "None ######################### None\n"
     ]
    }
   ],
   "source": [
    "pt_measurements = PointMeasurements()\n",
    "\n",
    "instrument_types = pt_measurements.all_instruments\n",
    "site_names = pt_measurements.all_site_names\n",
    "\n",
    "pp.pp(instrument_types)"
   ]
  },
  {
   "cell_type": "code",
   "execution_count": 29,
   "id": "dbf208c3-b216-4330-86a4-efacb378edfa",
   "metadata": {},
   "outputs": [],
   "source": [
    "def calculate_point_query_time(instrument, limit, site_name):\n",
    "    \"\"\"\n",
    "    inputs: \n",
    "        1) The instrument name as string \n",
    "        2) Limit on number of queries \n",
    "        3) site_name (make \"NA\")\n",
    "        \n",
    "    returns: \n",
    "        \n",
    "    \"\"\"\n",
    "\n",
    "    if site_name is None:\n",
    "\n",
    "        initiate_time = time.time()\n",
    "        df_query = PointMeasurements.from_filter(\n",
    "            instrument=instrument,\n",
    "            limit=limit,\n",
    "        )\n",
    "        finished_time = time.time()\n",
    "        \n",
    "    else:\n",
    "\n",
    "        initiate_time = time.time()\n",
    "        df_query = PointMeasurements.from_filter(\n",
    "            instrument=instrument,\n",
    "            limit=limit,\n",
    "            site_name=site_name\n",
    "            \n",
    "        )\n",
    "        finished_time = time.time()\n",
    "\n",
    "    elapsed_time = finished_time - initiate_time\n",
    "    df_length = len(df_query)\n",
    "    result = {\"instrument\": instrument, \n",
    "              \"limit\": limit,\n",
    "              \"site_name\": site_name,\n",
    "              \"elapsed_time\": elapsed_time,\n",
    "              \"df_length\": df_length}\n",
    "\n",
    "    return result\n"
   ]
  },
  {
   "cell_type": "code",
   "execution_count": 4,
   "id": "363f30cb-656c-4871-95e3-7e1a46e9b4b1",
   "metadata": {},
   "outputs": [
    {
     "name": "stdout",
     "output_type": "stream",
     "text": [
      "1000\n",
      "337816\n"
     ]
    }
   ],
   "source": [
    "time_initiated = time.time()\n",
    "\n",
    "small_ekko_df = PointMeasurements.from_filter(\n",
    "    instrument='pulseEkko pro 1 GHz GPR',\n",
    "    limit=1000,\n",
    ")\n",
    "\n",
    "time_finished = time.time()\n",
    "\n",
    "delta_seconds = time_finished - time_initiated\n",
    "print(time_initiated, time_finished, delta_seconds)\n",
    "\n",
    "# Start with the instrument\n",
    "# Set the limit really high ~1,000,000\n",
    "\n",
    "small_ekko_df = PointMeasurements.from_filter(\n",
    "    instrument='pulseEkko pro 1 GHz GPR',\n",
    "    limit=1000,\n",
    ")\n",
    "\n",
    "# big_ekko_df = PointMeasurements.from_filter(\n",
    "#     instrument='pulseEkko pro 1 GHz GPR',\n",
    "#     limit=1000000,\n",
    "# )\n",
    "\n",
    "\"\"\"\n",
    "Add an aditional query with instrument (e.g. Site)\n",
    "\"\"\"\n",
    "\n",
    "site_small_ekko_df = PointMeasurements.from_filter(\n",
    "    site_name='farmers-creamers',\n",
    "    instrument='pulseEkko pro 1 GHz GPR',\n",
    "    limit=1000\n",
    ")\n",
    "\n",
    "site_big_ekko_df = PointMeasurements.from_filter(\n",
    "    site_name='farmers-creamers',\n",
    "    instrument='pulseEkko pro 1 GHz GPR',\n",
    "    limit=1000000\n",
    ")\n"
   ]
  },
  {
   "cell_type": "code",
   "execution_count": 30,
   "id": "5403d1a7-c44c-45f9-b496-b7f8907f3960",
   "metadata": {},
   "outputs": [],
   "source": [
    "test = calculate_point_query_time('pulseEkko pro 1 GHz GPR', 10000, 'NA')"
   ]
  },
  {
   "cell_type": "code",
   "execution_count": 31,
   "id": "e95ae3ce-262c-469e-9c83-7bc357adb77c",
   "metadata": {},
   "outputs": [
    {
     "name": "stdout",
     "output_type": "stream",
     "text": [
      "{'instrument': 'pulseEkko pro 1 GHz GPR', 'limit': 10000, 'site_name': 'NA', 'elapsed_time': 0.4858970642089844, 'df_length': 10000}\n"
     ]
    }
   ],
   "source": [
    "print(test)"
   ]
  },
  {
   "cell_type": "code",
   "execution_count": null,
   "id": "efea60e8-a8e7-41e6-838b-51622789e679",
   "metadata": {},
   "outputs": [],
   "source": []
  }
 ],
 "metadata": {
  "kernelspec": {
   "display_name": "Python 3 (ipykernel)",
   "language": "python",
   "name": "python3"
  },
  "language_info": {
   "codemirror_mode": {
    "name": "ipython",
    "version": 3
   },
   "file_extension": ".py",
   "mimetype": "text/x-python",
   "name": "python",
   "nbconvert_exporter": "python",
   "pygments_lexer": "ipython3",
   "version": "3.11.9"
  }
 },
 "nbformat": 4,
 "nbformat_minor": 5
}
