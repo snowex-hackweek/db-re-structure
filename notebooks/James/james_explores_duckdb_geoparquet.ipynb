{
 "cells": [
  {
   "cell_type": "markdown",
   "id": "63720fa1-9ab8-4e96-a983-0165cdb45561",
   "metadata": {},
   "source": [
    "# experiments with DuckDB and geoparquet\n",
    "\n",
    "This notebook explores the possibility of working with the SnowEx data in geoparquet format rather than using a PostgreSQL database. The advantage of this approach would be that we could host the data on S3 without the need for a persistent database management service.\n",
    "\n",
    "## Links:\n",
    "\n",
    "* [DuckDB](https://duckdb.org/)\n",
    "* [geoparquet](https://geoparquet.org/)\n",
    "* [geoparquet tutorials](https://github.com/cholmes/duckdb-geoparquet-tutorials)\n"
   ]
  },
  {
   "cell_type": "markdown",
   "id": "55b6fe54-058a-4ff4-90fe-b3a70e5507ac",
   "metadata": {},
   "source": [
    "## Converting from postgresql\n",
    "\n",
    "As an initial test, let's convert one of the main snowexsql database tables to geoparquet (the 'points' table). Then we can compare query times with our existing API.\n",
    "\n",
    "To do this I followed the steps in [this documentation](https://www.crunchydata.com/blog/parquet-and-postgres-in-the-data-lake).\n",
    "\n",
    "Details:\n",
    "* ```mamba install conda-forge::gdal```\n",
    "* ```mamba install -c conda-forge libgdal-pg```\n",
    "* ```mamba install -c conda-forge libdgal-arrow-parquet```\n",
    "* ``` ogr2ogr -f Parquet /tmp/points.parquet PG:\"dbname='snowex' host='db.snowexdata.org' port='5432' user='snow' password='hackweek'\" points```\n",
    "\n",
    "Next I uploaded the points.parquet file to an S3 bucket and acquired a security key for accessing the file."
   ]
  },
  {
   "cell_type": "code",
   "execution_count": 1,
   "id": "12af9ee0-f05c-4243-b356-0e8c398b11d6",
   "metadata": {},
   "outputs": [
    {
     "name": "stdout",
     "output_type": "stream",
     "text": [
      "Requirement already satisfied: geoparquet in /srv/conda/envs/notebook/lib/python3.11/site-packages (0.0.3)\n",
      "Requirement already satisfied: python-dotenv in /srv/conda/envs/notebook/lib/python3.11/site-packages (1.0.1)\n"
     ]
    }
   ],
   "source": [
    "import duckdb\n",
    "!pip install geoparquet # this is not yet on cryocloud\n",
    "!pip install python-dotenv\n",
    "import duckdb\n",
    "import pandas as pd\n",
    "import geopandas as gpd\n",
    "import geoparquet as gpq\n",
    "from dotenv import load_dotenv\n",
    "from snowexsql.api import PointMeasurements\n",
    "import os\n",
    "from dotenv import dotenv_values"
   ]
  },
  {
   "cell_type": "markdown",
   "id": "3e1dd76f-c828-4efe-9365-75b239b7c9b4",
   "metadata": {},
   "source": [
    "### enable the spatial and httpfs extensions in duckdb"
   ]
  },
  {
   "cell_type": "code",
   "execution_count": 2,
   "id": "adbeed73-2ffa-4921-a804-135829c5d9ad",
   "metadata": {},
   "outputs": [],
   "source": [
    "con = duckdb.connect()\n",
    "con.install_extension(\"httpfs\")\n",
    "con.load_extension(\"httpfs\")\n",
    "con.install_extension(\"aws\")\n",
    "con.load_extension(\"aws\")"
   ]
  },
  {
   "cell_type": "code",
   "execution_count": 3,
   "id": "be3cb290-1c12-4253-bf5a-b99854a00262",
   "metadata": {},
   "outputs": [],
   "source": [
    "load_dotenv() # credentials come from a local .env file\n",
    "k=os.getenv('KEY_ID')\n",
    "s=os.getenv('SECRET')"
   ]
  },
  {
   "cell_type": "code",
   "execution_count": 4,
   "id": "7046d575-f686-4ace-943a-6b4655f9c37a",
   "metadata": {},
   "outputs": [
    {
     "name": "stdout",
     "output_type": "stream",
     "text": [
      "None\n"
     ]
    }
   ],
   "source": [
    "print(s)"
   ]
  },
  {
   "cell_type": "code",
   "execution_count": 5,
   "id": "f898b264-89b5-4ad1-9aef-2fe6dced3b59",
   "metadata": {},
   "outputs": [
    {
     "data": {
      "text/plain": [
       "┌─────────┐\n",
       "│ Success │\n",
       "│ boolean │\n",
       "├─────────┤\n",
       "│ true    │\n",
       "└─────────┘"
      ]
     },
     "execution_count": 5,
     "metadata": {},
     "output_type": "execute_result"
    }
   ],
   "source": [
    "duckdb.sql(\"\"\"CREATE SECRET (TYPE S3,KEY_ID {}, SECRET {}, REGION 'us-west-2')\"\"\".format(k,s))"
   ]
  },
  {
   "cell_type": "markdown",
   "id": "ad3722ce-bb65-4407-abb3-120f613b28d1",
   "metadata": {},
   "source": [
    "### Try showing all the columns of the database"
   ]
  },
  {
   "cell_type": "code",
   "execution_count": 6,
   "id": "28c7f39f-a355-4f9c-8e70-42c03ea7ceba",
   "metadata": {},
   "outputs": [
    {
     "ename": "HTTPException",
     "evalue": "HTTP Error: HTTP GET error on 'https://snowexdb.s3.amazonaws.com/points.parquet' (HTTP 403)",
     "output_type": "error",
     "traceback": [
      "\u001b[0;31m---------------------------------------------------------------------------\u001b[0m",
      "\u001b[0;31mHTTPException\u001b[0m                             Traceback (most recent call last)",
      "Cell \u001b[0;32mIn[6], line 1\u001b[0m\n\u001b[0;32m----> 1\u001b[0m \u001b[43mduckdb\u001b[49m\u001b[38;5;241;43m.\u001b[39;49m\u001b[43msql\u001b[49m\u001b[43m(\u001b[49m\u001b[38;5;124;43m\"\u001b[39;49m\u001b[38;5;124;43mDESCRIBE SELECT * FROM read_parquet(\u001b[39;49m\u001b[38;5;124;43m'\u001b[39;49m\u001b[38;5;124;43ms3://snowexdb/points.parquet\u001b[39;49m\u001b[38;5;124;43m'\u001b[39;49m\u001b[38;5;124;43m)\u001b[39;49m\u001b[38;5;124;43m\"\u001b[39;49m\u001b[43m)\u001b[49m\n",
      "File \u001b[0;32m/srv/conda/envs/notebook/lib/python3.11/site-packages/duckdb/__init__.py:457\u001b[0m, in \u001b[0;36msql\u001b[0;34m(query, **kwargs)\u001b[0m\n\u001b[1;32m    455\u001b[0m \u001b[38;5;28;01melse\u001b[39;00m:\n\u001b[1;32m    456\u001b[0m     conn \u001b[38;5;241m=\u001b[39m duckdb\u001b[38;5;241m.\u001b[39mconnect(\u001b[38;5;124m\"\u001b[39m\u001b[38;5;124m:default:\u001b[39m\u001b[38;5;124m\"\u001b[39m)\n\u001b[0;32m--> 457\u001b[0m \u001b[38;5;28;01mreturn\u001b[39;00m \u001b[43mconn\u001b[49m\u001b[38;5;241;43m.\u001b[39;49m\u001b[43msql\u001b[49m\u001b[43m(\u001b[49m\u001b[43mquery\u001b[49m\u001b[43m,\u001b[49m\u001b[43m \u001b[49m\u001b[38;5;241;43m*\u001b[39;49m\u001b[38;5;241;43m*\u001b[39;49m\u001b[43mkwargs\u001b[49m\u001b[43m)\u001b[49m\n",
      "\u001b[0;31mHTTPException\u001b[0m: HTTP Error: HTTP GET error on 'https://snowexdb.s3.amazonaws.com/points.parquet' (HTTP 403)"
     ]
    }
   ],
   "source": [
    "duckdb.sql(\"DESCRIBE SELECT * FROM read_parquet('s3://snowexdb/points.parquet')\")"
   ]
  },
  {
   "cell_type": "markdown",
   "id": "8663e40c-07ab-4f44-a798-cf4138b41f60",
   "metadata": {},
   "source": [
    "## Simple query to replicate the first example in the db tutorial"
   ]
  },
  {
   "cell_type": "code",
   "execution_count": 8,
   "id": "105264ab-8c80-4908-9472-356dec28a480",
   "metadata": {},
   "outputs": [],
   "source": [
    "df = duckdb.sql(\"SELECT value, longitude, latitude FROM read_parquet('s3://snowexdb/points.parquet') WHERE type='depth' AND instrument='pit ruler' LIMIT 100\").to_df()"
   ]
  },
  {
   "cell_type": "code",
   "execution_count": 9,
   "id": "aab5196c-61a4-4967-a359-d034eb8c2e1e",
   "metadata": {},
   "outputs": [
    {
     "data": {
      "text/html": [
       "<div>\n",
       "<style scoped>\n",
       "    .dataframe tbody tr th:only-of-type {\n",
       "        vertical-align: middle;\n",
       "    }\n",
       "\n",
       "    .dataframe tbody tr th {\n",
       "        vertical-align: top;\n",
       "    }\n",
       "\n",
       "    .dataframe thead th {\n",
       "        text-align: right;\n",
       "    }\n",
       "</style>\n",
       "<table border=\"1\" class=\"dataframe\">\n",
       "  <thead>\n",
       "    <tr style=\"text-align: right;\">\n",
       "      <th></th>\n",
       "      <th>value</th>\n",
       "      <th>longitude</th>\n",
       "      <th>latitude</th>\n",
       "      <th>geometry</th>\n",
       "    </tr>\n",
       "  </thead>\n",
       "  <tbody>\n",
       "    <tr>\n",
       "      <th>0</th>\n",
       "      <td>83.0</td>\n",
       "      <td>-108.06311</td>\n",
       "      <td>39.04496</td>\n",
       "      <td>POINT (-108.06311 39.04496)</td>\n",
       "    </tr>\n",
       "    <tr>\n",
       "      <th>1</th>\n",
       "      <td>100.0</td>\n",
       "      <td>-108.19593</td>\n",
       "      <td>39.04563</td>\n",
       "      <td>POINT (-108.19593 39.04563)</td>\n",
       "    </tr>\n",
       "    <tr>\n",
       "      <th>2</th>\n",
       "      <td>117.0</td>\n",
       "      <td>-108.14791</td>\n",
       "      <td>39.00760</td>\n",
       "      <td>POINT (-108.14791 39.0076)</td>\n",
       "    </tr>\n",
       "    <tr>\n",
       "      <th>3</th>\n",
       "      <td>98.0</td>\n",
       "      <td>-108.16401</td>\n",
       "      <td>39.02144</td>\n",
       "      <td>POINT (-108.16401 39.02144)</td>\n",
       "    </tr>\n",
       "    <tr>\n",
       "      <th>4</th>\n",
       "      <td>92.0</td>\n",
       "      <td>-108.19103</td>\n",
       "      <td>39.03404</td>\n",
       "      <td>POINT (-108.19103 39.03404)</td>\n",
       "    </tr>\n",
       "    <tr>\n",
       "      <th>...</th>\n",
       "      <td>...</td>\n",
       "      <td>...</td>\n",
       "      <td>...</td>\n",
       "      <td>...</td>\n",
       "    </tr>\n",
       "    <tr>\n",
       "      <th>95</th>\n",
       "      <td>92.0</td>\n",
       "      <td>-108.20975</td>\n",
       "      <td>39.03596</td>\n",
       "      <td>POINT (-108.20975 39.03596)</td>\n",
       "    </tr>\n",
       "    <tr>\n",
       "      <th>96</th>\n",
       "      <td>35.0</td>\n",
       "      <td>-108.18948</td>\n",
       "      <td>39.03126</td>\n",
       "      <td>POINT (-108.18948 39.03126)</td>\n",
       "    </tr>\n",
       "    <tr>\n",
       "      <th>97</th>\n",
       "      <td>101.0</td>\n",
       "      <td>-108.15596</td>\n",
       "      <td>39.01843</td>\n",
       "      <td>POINT (-108.15596 39.01843)</td>\n",
       "    </tr>\n",
       "    <tr>\n",
       "      <th>98</th>\n",
       "      <td>102.0</td>\n",
       "      <td>-108.14158</td>\n",
       "      <td>39.01437</td>\n",
       "      <td>POINT (-108.14158 39.01437)</td>\n",
       "    </tr>\n",
       "    <tr>\n",
       "      <th>99</th>\n",
       "      <td>115.0</td>\n",
       "      <td>-108.00313</td>\n",
       "      <td>39.03918</td>\n",
       "      <td>POINT (-108.00313 39.03918)</td>\n",
       "    </tr>\n",
       "  </tbody>\n",
       "</table>\n",
       "<p>100 rows × 4 columns</p>\n",
       "</div>"
      ],
      "text/plain": [
       "    value  longitude  latitude                     geometry\n",
       "0    83.0 -108.06311  39.04496  POINT (-108.06311 39.04496)\n",
       "1   100.0 -108.19593  39.04563  POINT (-108.19593 39.04563)\n",
       "2   117.0 -108.14791  39.00760   POINT (-108.14791 39.0076)\n",
       "3    98.0 -108.16401  39.02144  POINT (-108.16401 39.02144)\n",
       "4    92.0 -108.19103  39.03404  POINT (-108.19103 39.03404)\n",
       "..    ...        ...       ...                          ...\n",
       "95   92.0 -108.20975  39.03596  POINT (-108.20975 39.03596)\n",
       "96   35.0 -108.18948  39.03126  POINT (-108.18948 39.03126)\n",
       "97  101.0 -108.15596  39.01843  POINT (-108.15596 39.01843)\n",
       "98  102.0 -108.14158  39.01437  POINT (-108.14158 39.01437)\n",
       "99  115.0 -108.00313  39.03918  POINT (-108.00313 39.03918)\n",
       "\n",
       "[100 rows x 4 columns]"
      ]
     },
     "execution_count": 9,
     "metadata": {},
     "output_type": "execute_result"
    }
   ],
   "source": [
    "# Convert DataFrame to GeoDataFrame\n",
    "gdf = gpd.GeoDataFrame(\n",
    "    df, \n",
    "    geometry=gpd.points_from_xy(df.longitude, df.latitude)\n",
    ")\n",
    "\n",
    "# Set the coordinate reference system (CRS) if needed\n",
    "gdf.set_crs(epsg=4326, inplace=True)"
   ]
  },
  {
   "cell_type": "code",
   "execution_count": 10,
   "id": "0cdadfa1-75db-4df8-88a2-5432c710646d",
   "metadata": {},
   "outputs": [
    {
     "data": {
      "text/html": [
       "<div style=\"width:100%;\"><div style=\"position:relative;width:100%;height:0;padding-bottom:60%;\"><span style=\"color:#565656\">Make this Notebook Trusted to load map: File -> Trust Notebook</span><iframe srcdoc=\"&lt;!DOCTYPE html&gt;\n",
       "&lt;html&gt;\n",
       "&lt;head&gt;\n",
       "    \n",
       "    &lt;meta http-equiv=&quot;content-type&quot; content=&quot;text/html; charset=UTF-8&quot; /&gt;\n",
       "    \n",
       "        &lt;script&gt;\n",
       "            L_NO_TOUCH = false;\n",
       "            L_DISABLE_3D = false;\n",
       "        &lt;/script&gt;\n",
       "    \n",
       "    &lt;style&gt;html, body {width: 100%;height: 100%;margin: 0;padding: 0;}&lt;/style&gt;\n",
       "    &lt;style&gt;#map {position:absolute;top:0;bottom:0;right:0;left:0;}&lt;/style&gt;\n",
       "    &lt;script src=&quot;https://cdn.jsdelivr.net/npm/leaflet@1.9.3/dist/leaflet.js&quot;&gt;&lt;/script&gt;\n",
       "    &lt;script src=&quot;https://code.jquery.com/jquery-3.7.1.min.js&quot;&gt;&lt;/script&gt;\n",
       "    &lt;script src=&quot;https://cdn.jsdelivr.net/npm/bootstrap@5.2.2/dist/js/bootstrap.bundle.min.js&quot;&gt;&lt;/script&gt;\n",
       "    &lt;script src=&quot;https://cdnjs.cloudflare.com/ajax/libs/Leaflet.awesome-markers/2.0.2/leaflet.awesome-markers.js&quot;&gt;&lt;/script&gt;\n",
       "    &lt;link rel=&quot;stylesheet&quot; href=&quot;https://cdn.jsdelivr.net/npm/leaflet@1.9.3/dist/leaflet.css&quot;/&gt;\n",
       "    &lt;link rel=&quot;stylesheet&quot; href=&quot;https://cdn.jsdelivr.net/npm/bootstrap@5.2.2/dist/css/bootstrap.min.css&quot;/&gt;\n",
       "    &lt;link rel=&quot;stylesheet&quot; href=&quot;https://netdna.bootstrapcdn.com/bootstrap/3.0.0/css/bootstrap-glyphicons.css&quot;/&gt;\n",
       "    &lt;link rel=&quot;stylesheet&quot; href=&quot;https://cdn.jsdelivr.net/npm/@fortawesome/fontawesome-free@6.2.0/css/all.min.css&quot;/&gt;\n",
       "    &lt;link rel=&quot;stylesheet&quot; href=&quot;https://cdnjs.cloudflare.com/ajax/libs/Leaflet.awesome-markers/2.0.2/leaflet.awesome-markers.css&quot;/&gt;\n",
       "    &lt;link rel=&quot;stylesheet&quot; href=&quot;https://cdn.jsdelivr.net/gh/python-visualization/folium/folium/templates/leaflet.awesome.rotate.min.css&quot;/&gt;\n",
       "    \n",
       "            &lt;meta name=&quot;viewport&quot; content=&quot;width=device-width,\n",
       "                initial-scale=1.0, maximum-scale=1.0, user-scalable=no&quot; /&gt;\n",
       "            &lt;style&gt;\n",
       "                #map_90d6e5f0ec2ea3dfee9ff20fb00e2328 {\n",
       "                    position: relative;\n",
       "                    width: 100.0%;\n",
       "                    height: 100.0%;\n",
       "                    left: 0.0%;\n",
       "                    top: 0.0%;\n",
       "                }\n",
       "                .leaflet-container { font-size: 1rem; }\n",
       "            &lt;/style&gt;\n",
       "        \n",
       "    \n",
       "                    &lt;style&gt;\n",
       "                        .foliumtooltip {\n",
       "                            \n",
       "                        }\n",
       "                       .foliumtooltip table{\n",
       "                            margin: auto;\n",
       "                        }\n",
       "                        .foliumtooltip tr{\n",
       "                            text-align: left;\n",
       "                        }\n",
       "                        .foliumtooltip th{\n",
       "                            padding: 2px; padding-right: 8px;\n",
       "                        }\n",
       "                    &lt;/style&gt;\n",
       "            \n",
       "&lt;/head&gt;\n",
       "&lt;body&gt;\n",
       "    \n",
       "    \n",
       "            &lt;div class=&quot;folium-map&quot; id=&quot;map_90d6e5f0ec2ea3dfee9ff20fb00e2328&quot; &gt;&lt;/div&gt;\n",
       "        \n",
       "&lt;/body&gt;\n",
       "&lt;script&gt;\n",
       "    \n",
       "    \n",
       "            var map_90d6e5f0ec2ea3dfee9ff20fb00e2328 = L.map(\n",
       "                &quot;map_90d6e5f0ec2ea3dfee9ff20fb00e2328&quot;,\n",
       "                {\n",
       "                    center: [39.035945, -108.11229],\n",
       "                    crs: L.CRS.EPSG3857,\n",
       "                    zoom: 10,\n",
       "                    zoomControl: true,\n",
       "                    preferCanvas: false,\n",
       "                }\n",
       "            );\n",
       "            L.control.scale().addTo(map_90d6e5f0ec2ea3dfee9ff20fb00e2328);\n",
       "\n",
       "            \n",
       "\n",
       "        \n",
       "    \n",
       "            var tile_layer_7f02a815b4ccb774dccf1f6a2dbd304c = L.tileLayer(\n",
       "                &quot;https://tile.openstreetmap.org/{z}/{x}/{y}.png&quot;,\n",
       "                {&quot;attribution&quot;: &quot;\\u0026copy; \\u003ca href=\\&quot;https://www.openstreetmap.org/copyright\\&quot;\\u003eOpenStreetMap\\u003c/a\\u003e contributors&quot;, &quot;detectRetina&quot;: false, &quot;maxNativeZoom&quot;: 19, &quot;maxZoom&quot;: 19, &quot;minZoom&quot;: 0, &quot;noWrap&quot;: false, &quot;opacity&quot;: 1, &quot;subdomains&quot;: &quot;abc&quot;, &quot;tms&quot;: false}\n",
       "            );\n",
       "        \n",
       "    \n",
       "            tile_layer_7f02a815b4ccb774dccf1f6a2dbd304c.addTo(map_90d6e5f0ec2ea3dfee9ff20fb00e2328);\n",
       "        \n",
       "    \n",
       "            map_90d6e5f0ec2ea3dfee9ff20fb00e2328.fitBounds(\n",
       "                [[39.0076, -108.22145], [39.06429, -108.00313]],\n",
       "                {}\n",
       "            );\n",
       "        \n",
       "    \n",
       "        function geo_json_b5da63b7d92d7b29ec39947a4c253ff8_styler(feature) {\n",
       "            switch(feature.id) {\n",
       "                default:\n",
       "                    return {&quot;fillOpacity&quot;: 0.5, &quot;weight&quot;: 2};\n",
       "            }\n",
       "        }\n",
       "        function geo_json_b5da63b7d92d7b29ec39947a4c253ff8_highlighter(feature) {\n",
       "            switch(feature.id) {\n",
       "                default:\n",
       "                    return {&quot;fillOpacity&quot;: 0.75};\n",
       "            }\n",
       "        }\n",
       "        function geo_json_b5da63b7d92d7b29ec39947a4c253ff8_pointToLayer(feature, latlng) {\n",
       "            var opts = {&quot;bubblingMouseEvents&quot;: true, &quot;color&quot;: &quot;#3388ff&quot;, &quot;dashArray&quot;: null, &quot;dashOffset&quot;: null, &quot;fill&quot;: true, &quot;fillColor&quot;: &quot;#3388ff&quot;, &quot;fillOpacity&quot;: 0.2, &quot;fillRule&quot;: &quot;evenodd&quot;, &quot;lineCap&quot;: &quot;round&quot;, &quot;lineJoin&quot;: &quot;round&quot;, &quot;opacity&quot;: 1.0, &quot;radius&quot;: 2, &quot;stroke&quot;: true, &quot;weight&quot;: 3};\n",
       "            \n",
       "            let style = geo_json_b5da63b7d92d7b29ec39947a4c253ff8_styler(feature)\n",
       "            Object.assign(opts, style)\n",
       "            \n",
       "            return new L.CircleMarker(latlng, opts)\n",
       "        }\n",
       "\n",
       "        function geo_json_b5da63b7d92d7b29ec39947a4c253ff8_onEachFeature(feature, layer) {\n",
       "            layer.on({\n",
       "                mouseout: function(e) {\n",
       "                    if(typeof e.target.setStyle === &quot;function&quot;){\n",
       "                            geo_json_b5da63b7d92d7b29ec39947a4c253ff8.resetStyle(e.target);\n",
       "                    }\n",
       "                },\n",
       "                mouseover: function(e) {\n",
       "                    if(typeof e.target.setStyle === &quot;function&quot;){\n",
       "                        const highlightStyle = geo_json_b5da63b7d92d7b29ec39947a4c253ff8_highlighter(e.target.feature)\n",
       "                        e.target.setStyle(highlightStyle);\n",
       "                    }\n",
       "                },\n",
       "            });\n",
       "        };\n",
       "        var geo_json_b5da63b7d92d7b29ec39947a4c253ff8 = L.geoJson(null, {\n",
       "                onEachFeature: geo_json_b5da63b7d92d7b29ec39947a4c253ff8_onEachFeature,\n",
       "            \n",
       "                style: geo_json_b5da63b7d92d7b29ec39947a4c253ff8_styler,\n",
       "                pointToLayer: geo_json_b5da63b7d92d7b29ec39947a4c253ff8_pointToLayer,\n",
       "        });\n",
       "\n",
       "        function geo_json_b5da63b7d92d7b29ec39947a4c253ff8_add (data) {\n",
       "            geo_json_b5da63b7d92d7b29ec39947a4c253ff8\n",
       "                .addData(data);\n",
       "        }\n",
       "            geo_json_b5da63b7d92d7b29ec39947a4c253ff8_add({&quot;bbox&quot;: [-108.22145, 39.0076, -108.00313, 39.06429], &quot;features&quot;: [{&quot;bbox&quot;: [-108.06311, 39.04496, -108.06311, 39.04496], &quot;geometry&quot;: {&quot;coordinates&quot;: [-108.06311, 39.04496], &quot;type&quot;: &quot;Point&quot;}, &quot;id&quot;: &quot;0&quot;, &quot;properties&quot;: {&quot;latitude&quot;: 39.04496, &quot;longitude&quot;: -108.06311, &quot;value&quot;: 83.0}, &quot;type&quot;: &quot;Feature&quot;}, {&quot;bbox&quot;: [-108.19593, 39.04563, -108.19593, 39.04563], &quot;geometry&quot;: {&quot;coordinates&quot;: [-108.19593, 39.04563], &quot;type&quot;: &quot;Point&quot;}, &quot;id&quot;: &quot;1&quot;, &quot;properties&quot;: {&quot;latitude&quot;: 39.04563, &quot;longitude&quot;: -108.19593, &quot;value&quot;: 100.0}, &quot;type&quot;: &quot;Feature&quot;}, {&quot;bbox&quot;: [-108.14791, 39.0076, -108.14791, 39.0076], &quot;geometry&quot;: {&quot;coordinates&quot;: [-108.14791, 39.0076], &quot;type&quot;: &quot;Point&quot;}, &quot;id&quot;: &quot;2&quot;, &quot;properties&quot;: {&quot;latitude&quot;: 39.0076, &quot;longitude&quot;: -108.14791, &quot;value&quot;: 117.0}, &quot;type&quot;: &quot;Feature&quot;}, {&quot;bbox&quot;: [-108.16401, 39.02144, -108.16401, 39.02144], &quot;geometry&quot;: {&quot;coordinates&quot;: [-108.16401, 39.02144], &quot;type&quot;: &quot;Point&quot;}, &quot;id&quot;: &quot;3&quot;, &quot;properties&quot;: {&quot;latitude&quot;: 39.02144, &quot;longitude&quot;: -108.16401, &quot;value&quot;: 98.0}, &quot;type&quot;: &quot;Feature&quot;}, {&quot;bbox&quot;: [-108.19103, 39.03404, -108.19103, 39.03404], &quot;geometry&quot;: {&quot;coordinates&quot;: [-108.19103, 39.03404], &quot;type&quot;: &quot;Point&quot;}, &quot;id&quot;: &quot;4&quot;, &quot;properties&quot;: {&quot;latitude&quot;: 39.03404, &quot;longitude&quot;: -108.19103, &quot;value&quot;: 92.0}, &quot;type&quot;: &quot;Feature&quot;}, {&quot;bbox&quot;: [-108.17417, 39.02193, -108.17417, 39.02193], &quot;geometry&quot;: {&quot;coordinates&quot;: [-108.17417, 39.02193], &quot;type&quot;: &quot;Point&quot;}, &quot;id&quot;: &quot;5&quot;, &quot;properties&quot;: {&quot;latitude&quot;: 39.02193, &quot;longitude&quot;: -108.17417, &quot;value&quot;: 100.0}, &quot;type&quot;: &quot;Feature&quot;}, {&quot;bbox&quot;: [-108.14962, 39.01659, -108.14962, 39.01659], &quot;geometry&quot;: {&quot;coordinates&quot;: [-108.14962, 39.01659], &quot;type&quot;: &quot;Point&quot;}, &quot;id&quot;: &quot;6&quot;, &quot;properties&quot;: {&quot;latitude&quot;: 39.01659, &quot;longitude&quot;: -108.14962, &quot;value&quot;: 95.0}, &quot;type&quot;: &quot;Feature&quot;}, {&quot;bbox&quot;: [-108.1548, 39.01214, -108.1548, 39.01214], &quot;geometry&quot;: {&quot;coordinates&quot;: [-108.1548, 39.01214], &quot;type&quot;: &quot;Point&quot;}, &quot;id&quot;: &quot;7&quot;, &quot;properties&quot;: {&quot;latitude&quot;: 39.01214, &quot;longitude&quot;: -108.1548, &quot;value&quot;: 104.0}, &quot;type&quot;: &quot;Feature&quot;}, {&quot;bbox&quot;: [-108.22145, 39.03462, -108.22145, 39.03462], &quot;geometry&quot;: {&quot;coordinates&quot;: [-108.22145, 39.03462], &quot;type&quot;: &quot;Point&quot;}, &quot;id&quot;: &quot;8&quot;, &quot;properties&quot;: {&quot;latitude&quot;: 39.03462, &quot;longitude&quot;: -108.22145, &quot;value&quot;: 67.0}, &quot;type&quot;: &quot;Feature&quot;}, {&quot;bbox&quot;: [-108.15181, 39.02813, -108.15181, 39.02813], &quot;geometry&quot;: {&quot;coordinates&quot;: [-108.15181, 39.02813], &quot;type&quot;: &quot;Point&quot;}, &quot;id&quot;: &quot;9&quot;, &quot;properties&quot;: {&quot;latitude&quot;: 39.02813, &quot;longitude&quot;: -108.15181, &quot;value&quot;: 97.0}, &quot;type&quot;: &quot;Feature&quot;}, {&quot;bbox&quot;: [-108.06202, 39.04417, -108.06202, 39.04417], &quot;geometry&quot;: {&quot;coordinates&quot;: [-108.06202, 39.04417], &quot;type&quot;: &quot;Point&quot;}, &quot;id&quot;: &quot;10&quot;, &quot;properties&quot;: {&quot;latitude&quot;: 39.04417, &quot;longitude&quot;: -108.06202, &quot;value&quot;: 99.0}, &quot;type&quot;: &quot;Feature&quot;}, {&quot;bbox&quot;: [-108.19705, 39.04427, -108.19705, 39.04427], &quot;geometry&quot;: {&quot;coordinates&quot;: [-108.19705, 39.04427], &quot;type&quot;: &quot;Point&quot;}, &quot;id&quot;: &quot;11&quot;, &quot;properties&quot;: {&quot;latitude&quot;: 39.04427, &quot;longitude&quot;: -108.19705, &quot;value&quot;: 109.0}, &quot;type&quot;: &quot;Feature&quot;}, {&quot;bbox&quot;: [-108.16481, 39.01947, -108.16481, 39.01947], &quot;geometry&quot;: {&quot;coordinates&quot;: [-108.16481, 39.01947], &quot;type&quot;: &quot;Point&quot;}, &quot;id&quot;: &quot;12&quot;, &quot;properties&quot;: {&quot;latitude&quot;: 39.01947, &quot;longitude&quot;: -108.16481, &quot;value&quot;: 112.0}, &quot;type&quot;: &quot;Feature&quot;}, {&quot;bbox&quot;: [-108.16409, 39.01683, -108.16409, 39.01683], &quot;geometry&quot;: {&quot;coordinates&quot;: [-108.16409, 39.01683], &quot;type&quot;: &quot;Point&quot;}, &quot;id&quot;: &quot;13&quot;, &quot;properties&quot;: {&quot;latitude&quot;: 39.01683, &quot;longitude&quot;: -108.16409, &quot;value&quot;: 102.0}, &quot;type&quot;: &quot;Feature&quot;}, {&quot;bbox&quot;: [-108.19987, 39.03313, -108.19987, 39.03313], &quot;geometry&quot;: {&quot;coordinates&quot;: [-108.19987, 39.03313], &quot;type&quot;: &quot;Point&quot;}, &quot;id&quot;: &quot;14&quot;, &quot;properties&quot;: {&quot;latitude&quot;: 39.03313, &quot;longitude&quot;: -108.19987, &quot;value&quot;: 101.0}, &quot;type&quot;: &quot;Feature&quot;}, {&quot;bbox&quot;: [-108.18945, 39.03668, -108.18945, 39.03668], &quot;geometry&quot;: {&quot;coordinates&quot;: [-108.18945, 39.03668], &quot;type&quot;: &quot;Point&quot;}, &quot;id&quot;: &quot;15&quot;, &quot;properties&quot;: {&quot;latitude&quot;: 39.03668, &quot;longitude&quot;: -108.18945, &quot;value&quot;: 90.0}, &quot;type&quot;: &quot;Feature&quot;}, {&quot;bbox&quot;: [-108.15722, 39.01081, -108.15722, 39.01081], &quot;geometry&quot;: {&quot;coordinates&quot;: [-108.15722, 39.01081], &quot;type&quot;: &quot;Point&quot;}, &quot;id&quot;: &quot;16&quot;, &quot;properties&quot;: {&quot;latitude&quot;: 39.01081, &quot;longitude&quot;: -108.15722, &quot;value&quot;: 85.0}, &quot;type&quot;: &quot;Feature&quot;}, {&quot;bbox&quot;: [-108.16275, 39.03046, -108.16275, 39.03046], &quot;geometry&quot;: {&quot;coordinates&quot;: [-108.16275, 39.03046], &quot;type&quot;: &quot;Point&quot;}, &quot;id&quot;: &quot;17&quot;, &quot;properties&quot;: {&quot;latitude&quot;: 39.03046, &quot;longitude&quot;: -108.16275, &quot;value&quot;: 92.0}, &quot;type&quot;: &quot;Feature&quot;}, {&quot;bbox&quot;: [-108.16907, 39.01826, -108.16907, 39.01826], &quot;geometry&quot;: {&quot;coordinates&quot;: [-108.16907, 39.01826], &quot;type&quot;: &quot;Point&quot;}, &quot;id&quot;: &quot;18&quot;, &quot;properties&quot;: {&quot;latitude&quot;: 39.01826, &quot;longitude&quot;: -108.16907, &quot;value&quot;: 97.0}, &quot;type&quot;: &quot;Feature&quot;}, {&quot;bbox&quot;: [-108.20579, 39.03206, -108.20579, 39.03206], &quot;geometry&quot;: {&quot;coordinates&quot;: [-108.20579, 39.03206], &quot;type&quot;: &quot;Point&quot;}, &quot;id&quot;: &quot;19&quot;, &quot;properties&quot;: {&quot;latitude&quot;: 39.03206, &quot;longitude&quot;: -108.20579, &quot;value&quot;: 84.0}, &quot;type&quot;: &quot;Feature&quot;}, {&quot;bbox&quot;: [-108.20815, 39.05611, -108.20815, 39.05611], &quot;geometry&quot;: {&quot;coordinates&quot;: [-108.20815, 39.05611], &quot;type&quot;: &quot;Point&quot;}, &quot;id&quot;: &quot;20&quot;, &quot;properties&quot;: {&quot;latitude&quot;: 39.05611, &quot;longitude&quot;: -108.20815, &quot;value&quot;: 95.0}, &quot;type&quot;: &quot;Feature&quot;}, {&quot;bbox&quot;: [-108.16837, 39.01625, -108.16837, 39.01625], &quot;geometry&quot;: {&quot;coordinates&quot;: [-108.16837, 39.01625], &quot;type&quot;: &quot;Point&quot;}, &quot;id&quot;: &quot;21&quot;, &quot;properties&quot;: {&quot;latitude&quot;: 39.01625, &quot;longitude&quot;: -108.16837, &quot;value&quot;: 103.0}, &quot;type&quot;: &quot;Feature&quot;}, {&quot;bbox&quot;: [-108.21851, 39.03379, -108.21851, 39.03379], &quot;geometry&quot;: {&quot;coordinates&quot;: [-108.21851, 39.03379], &quot;type&quot;: &quot;Point&quot;}, &quot;id&quot;: &quot;22&quot;, &quot;properties&quot;: {&quot;latitude&quot;: 39.03379, &quot;longitude&quot;: -108.21851, &quot;value&quot;: 67.0}, &quot;type&quot;: &quot;Feature&quot;}, {&quot;bbox&quot;: [-108.20289, 39.02109, -108.20289, 39.02109], &quot;geometry&quot;: {&quot;coordinates&quot;: [-108.20289, 39.02109], &quot;type&quot;: &quot;Point&quot;}, &quot;id&quot;: &quot;23&quot;, &quot;properties&quot;: {&quot;latitude&quot;: 39.02109, &quot;longitude&quot;: -108.20289, &quot;value&quot;: 66.0}, &quot;type&quot;: &quot;Feature&quot;}, {&quot;bbox&quot;: [-108.16368, 39.0307, -108.16368, 39.0307], &quot;geometry&quot;: {&quot;coordinates&quot;: [-108.16368, 39.0307], &quot;type&quot;: &quot;Point&quot;}, &quot;id&quot;: &quot;24&quot;, &quot;properties&quot;: {&quot;latitude&quot;: 39.0307, &quot;longitude&quot;: -108.16368, &quot;value&quot;: 101.0}, &quot;type&quot;: &quot;Feature&quot;}, {&quot;bbox&quot;: [-108.13182, 39.01748, -108.13182, 39.01748], &quot;geometry&quot;: {&quot;coordinates&quot;: [-108.13182, 39.01748], &quot;type&quot;: &quot;Point&quot;}, &quot;id&quot;: &quot;25&quot;, &quot;properties&quot;: {&quot;latitude&quot;: 39.01748, &quot;longitude&quot;: -108.13182, &quot;value&quot;: 62.0}, &quot;type&quot;: &quot;Feature&quot;}, {&quot;bbox&quot;: [-108.18976, 39.03972, -108.18976, 39.03972], &quot;geometry&quot;: {&quot;coordinates&quot;: [-108.18976, 39.03972], &quot;type&quot;: &quot;Point&quot;}, &quot;id&quot;: &quot;26&quot;, &quot;properties&quot;: {&quot;latitude&quot;: 39.03972, &quot;longitude&quot;: -108.18976, &quot;value&quot;: 108.0}, &quot;type&quot;: &quot;Feature&quot;}, {&quot;bbox&quot;: [-108.15467, 39.00871, -108.15467, 39.00871], &quot;geometry&quot;: {&quot;coordinates&quot;: [-108.15467, 39.00871], &quot;type&quot;: &quot;Point&quot;}, &quot;id&quot;: &quot;27&quot;, &quot;properties&quot;: {&quot;latitude&quot;: 39.00871, &quot;longitude&quot;: -108.15467, &quot;value&quot;: 76.0}, &quot;type&quot;: &quot;Feature&quot;}, {&quot;bbox&quot;: [-108.14596, 39.0294, -108.14596, 39.0294], &quot;geometry&quot;: {&quot;coordinates&quot;: [-108.14596, 39.0294], &quot;type&quot;: &quot;Point&quot;}, &quot;id&quot;: &quot;28&quot;, &quot;properties&quot;: {&quot;latitude&quot;: 39.0294, &quot;longitude&quot;: -108.14596, &quot;value&quot;: 82.0}, &quot;type&quot;: &quot;Feature&quot;}, {&quot;bbox&quot;: [-108.22022, 39.06418, -108.22022, 39.06418], &quot;geometry&quot;: {&quot;coordinates&quot;: [-108.22022, 39.06418], &quot;type&quot;: &quot;Point&quot;}, &quot;id&quot;: &quot;29&quot;, &quot;properties&quot;: {&quot;latitude&quot;: 39.06418, &quot;longitude&quot;: -108.22022, &quot;value&quot;: 83.0}, &quot;type&quot;: &quot;Feature&quot;}, {&quot;bbox&quot;: [-108.19765, 39.02166, -108.19765, 39.02166], &quot;geometry&quot;: {&quot;coordinates&quot;: [-108.19765, 39.02166], &quot;type&quot;: &quot;Point&quot;}, &quot;id&quot;: &quot;30&quot;, &quot;properties&quot;: {&quot;latitude&quot;: 39.02166, &quot;longitude&quot;: -108.19765, &quot;value&quot;: 74.0}, &quot;type&quot;: &quot;Feature&quot;}, {&quot;bbox&quot;: [-108.15693, 39.01681, -108.15693, 39.01681], &quot;geometry&quot;: {&quot;coordinates&quot;: [-108.15693, 39.01681], &quot;type&quot;: &quot;Point&quot;}, &quot;id&quot;: &quot;31&quot;, &quot;properties&quot;: {&quot;latitude&quot;: 39.01681, &quot;longitude&quot;: -108.15693, &quot;value&quot;: 108.0}, &quot;type&quot;: &quot;Feature&quot;}, {&quot;bbox&quot;: [-108.16654, 39.03216, -108.16654, 39.03216], &quot;geometry&quot;: {&quot;coordinates&quot;: [-108.16654, 39.03216], &quot;type&quot;: &quot;Point&quot;}, &quot;id&quot;: &quot;32&quot;, &quot;properties&quot;: {&quot;latitude&quot;: 39.03216, &quot;longitude&quot;: -108.16654, &quot;value&quot;: 108.0}, &quot;type&quot;: &quot;Feature&quot;}, {&quot;bbox&quot;: [-108.16204, 39.01574, -108.16204, 39.01574], &quot;geometry&quot;: {&quot;coordinates&quot;: [-108.16204, 39.01574], &quot;type&quot;: &quot;Point&quot;}, &quot;id&quot;: &quot;33&quot;, &quot;properties&quot;: {&quot;latitude&quot;: 39.01574, &quot;longitude&quot;: -108.16204, &quot;value&quot;: 95.0}, &quot;type&quot;: &quot;Feature&quot;}, {&quot;bbox&quot;: [-108.19232, 39.01947, -108.19232, 39.01947], &quot;geometry&quot;: {&quot;coordinates&quot;: [-108.19232, 39.01947], &quot;type&quot;: &quot;Point&quot;}, &quot;id&quot;: &quot;34&quot;, &quot;properties&quot;: {&quot;latitude&quot;: 39.01947, &quot;longitude&quot;: -108.19232, &quot;value&quot;: 77.0}, &quot;type&quot;: &quot;Feature&quot;}, {&quot;bbox&quot;: [-108.14787, 39.01815, -108.14787, 39.01815], &quot;geometry&quot;: {&quot;coordinates&quot;: [-108.14787, 39.01815], &quot;type&quot;: &quot;Point&quot;}, &quot;id&quot;: &quot;35&quot;, &quot;properties&quot;: {&quot;latitude&quot;: 39.01815, &quot;longitude&quot;: -108.14787, &quot;value&quot;: 60.0}, &quot;type&quot;: &quot;Feature&quot;}, {&quot;bbox&quot;: [-108.20077, 39.05324, -108.20077, 39.05324], &quot;geometry&quot;: {&quot;coordinates&quot;: [-108.20077, 39.05324], &quot;type&quot;: &quot;Point&quot;}, &quot;id&quot;: &quot;36&quot;, &quot;properties&quot;: {&quot;latitude&quot;: 39.05324, &quot;longitude&quot;: -108.20077, &quot;value&quot;: 83.0}, &quot;type&quot;: &quot;Feature&quot;}, {&quot;bbox&quot;: [-108.14158, 39.03073, -108.14158, 39.03073], &quot;geometry&quot;: {&quot;coordinates&quot;: [-108.14158, 39.03073], &quot;type&quot;: &quot;Point&quot;}, &quot;id&quot;: &quot;37&quot;, &quot;properties&quot;: {&quot;latitude&quot;: 39.03073, &quot;longitude&quot;: -108.14158, &quot;value&quot;: 67.0}, &quot;type&quot;: &quot;Feature&quot;}, {&quot;bbox&quot;: [-108.18782, 39.03781, -108.18782, 39.03781], &quot;geometry&quot;: {&quot;coordinates&quot;: [-108.18782, 39.03781], &quot;type&quot;: &quot;Point&quot;}, &quot;id&quot;: &quot;38&quot;, &quot;properties&quot;: {&quot;latitude&quot;: 39.03781, &quot;longitude&quot;: -108.18782, &quot;value&quot;: 112.0}, &quot;type&quot;: &quot;Feature&quot;}, {&quot;bbox&quot;: [-108.16329, 39.02048, -108.16329, 39.02048], &quot;geometry&quot;: {&quot;coordinates&quot;: [-108.16329, 39.02048], &quot;type&quot;: &quot;Point&quot;}, &quot;id&quot;: &quot;39&quot;, &quot;properties&quot;: {&quot;latitude&quot;: 39.02048, &quot;longitude&quot;: -108.16329, &quot;value&quot;: 91.0}, &quot;type&quot;: &quot;Feature&quot;}, {&quot;bbox&quot;: [-108.13516, 39.0304, -108.13516, 39.0304], &quot;geometry&quot;: {&quot;coordinates&quot;: [-108.13516, 39.0304], &quot;type&quot;: &quot;Point&quot;}, &quot;id&quot;: &quot;40&quot;, &quot;properties&quot;: {&quot;latitude&quot;: 39.0304, &quot;longitude&quot;: -108.13516, &quot;value&quot;: 94.0}, &quot;type&quot;: &quot;Feature&quot;}, {&quot;bbox&quot;: [-108.19011, 39.03357, -108.19011, 39.03357], &quot;geometry&quot;: {&quot;coordinates&quot;: [-108.19011, 39.03357], &quot;type&quot;: &quot;Point&quot;}, &quot;id&quot;: &quot;41&quot;, &quot;properties&quot;: {&quot;latitude&quot;: 39.03357, &quot;longitude&quot;: -108.19011, &quot;value&quot;: 102.0}, &quot;type&quot;: &quot;Feature&quot;}, {&quot;bbox&quot;: [-108.1701, 39.03246, -108.1701, 39.03246], &quot;geometry&quot;: {&quot;coordinates&quot;: [-108.1701, 39.03246], &quot;type&quot;: &quot;Point&quot;}, &quot;id&quot;: &quot;42&quot;, &quot;properties&quot;: {&quot;latitude&quot;: 39.03246, &quot;longitude&quot;: -108.1701, &quot;value&quot;: 120.0}, &quot;type&quot;: &quot;Feature&quot;}, {&quot;bbox&quot;: [-108.14861, 39.01589, -108.14861, 39.01589], &quot;geometry&quot;: {&quot;coordinates&quot;: [-108.14861, 39.01589], &quot;type&quot;: &quot;Point&quot;}, &quot;id&quot;: &quot;43&quot;, &quot;properties&quot;: {&quot;latitude&quot;: 39.01589, &quot;longitude&quot;: -108.14861, &quot;value&quot;: 88.0}, &quot;type&quot;: &quot;Feature&quot;}, {&quot;bbox&quot;: [-108.15178, 39.0309, -108.15178, 39.0309], &quot;geometry&quot;: {&quot;coordinates&quot;: [-108.15178, 39.0309], &quot;type&quot;: &quot;Point&quot;}, &quot;id&quot;: &quot;44&quot;, &quot;properties&quot;: {&quot;latitude&quot;: 39.0309, &quot;longitude&quot;: -108.15178, &quot;value&quot;: 109.0}, &quot;type&quot;: &quot;Feature&quot;}, {&quot;bbox&quot;: [-108.18681, 39.03221, -108.18681, 39.03221], &quot;geometry&quot;: {&quot;coordinates&quot;: [-108.18681, 39.03221], &quot;type&quot;: &quot;Point&quot;}, &quot;id&quot;: &quot;45&quot;, &quot;properties&quot;: {&quot;latitude&quot;: 39.03221, &quot;longitude&quot;: -108.18681, &quot;value&quot;: 100.0}, &quot;type&quot;: &quot;Feature&quot;}, {&quot;bbox&quot;: [-108.1463, 39.01675, -108.1463, 39.01675], &quot;geometry&quot;: {&quot;coordinates&quot;: [-108.1463, 39.01675], &quot;type&quot;: &quot;Point&quot;}, &quot;id&quot;: &quot;46&quot;, &quot;properties&quot;: {&quot;latitude&quot;: 39.01675, &quot;longitude&quot;: -108.1463, &quot;value&quot;: 104.0}, &quot;type&quot;: &quot;Feature&quot;}, {&quot;bbox&quot;: [-108.13942, 39.01556, -108.13942, 39.01556], &quot;geometry&quot;: {&quot;coordinates&quot;: [-108.13942, 39.01556], &quot;type&quot;: &quot;Point&quot;}, &quot;id&quot;: &quot;47&quot;, &quot;properties&quot;: {&quot;latitude&quot;: 39.01556, &quot;longitude&quot;: -108.13942, &quot;value&quot;: 85.0}, &quot;type&quot;: &quot;Feature&quot;}, {&quot;bbox&quot;: [-108.16469, 39.01692, -108.16469, 39.01692], &quot;geometry&quot;: {&quot;coordinates&quot;: [-108.16469, 39.01692], &quot;type&quot;: &quot;Point&quot;}, &quot;id&quot;: &quot;48&quot;, &quot;properties&quot;: {&quot;latitude&quot;: 39.01692, &quot;longitude&quot;: -108.16469, &quot;value&quot;: 103.0}, &quot;type&quot;: &quot;Feature&quot;}, {&quot;bbox&quot;: [-108.16976, 39.02508, -108.16976, 39.02508], &quot;geometry&quot;: {&quot;coordinates&quot;: [-108.16976, 39.02508], &quot;type&quot;: &quot;Point&quot;}, &quot;id&quot;: &quot;49&quot;, &quot;properties&quot;: {&quot;latitude&quot;: 39.02508, &quot;longitude&quot;: -108.16976, &quot;value&quot;: 103.0}, &quot;type&quot;: &quot;Feature&quot;}, {&quot;bbox&quot;: [-108.17786, 39.03314, -108.17786, 39.03314], &quot;geometry&quot;: {&quot;coordinates&quot;: [-108.17786, 39.03314], &quot;type&quot;: &quot;Point&quot;}, &quot;id&quot;: &quot;50&quot;, &quot;properties&quot;: {&quot;latitude&quot;: 39.03314, &quot;longitude&quot;: -108.17786, &quot;value&quot;: 120.0}, &quot;type&quot;: &quot;Feature&quot;}, {&quot;bbox&quot;: [-108.16262, 39.0158, -108.16262, 39.0158], &quot;geometry&quot;: {&quot;coordinates&quot;: [-108.16262, 39.0158], &quot;type&quot;: &quot;Point&quot;}, &quot;id&quot;: &quot;51&quot;, &quot;properties&quot;: {&quot;latitude&quot;: 39.0158, &quot;longitude&quot;: -108.16262, &quot;value&quot;: 70.0}, &quot;type&quot;: &quot;Feature&quot;}, {&quot;bbox&quot;: [-108.2056, 39.0212, -108.2056, 39.0212], &quot;geometry&quot;: {&quot;coordinates&quot;: [-108.2056, 39.0212], &quot;type&quot;: &quot;Point&quot;}, &quot;id&quot;: &quot;52&quot;, &quot;properties&quot;: {&quot;latitude&quot;: 39.0212, &quot;longitude&quot;: -108.2056, &quot;value&quot;: 83.0}, &quot;type&quot;: &quot;Feature&quot;}, {&quot;bbox&quot;: [-108.14877, 39.03223, -108.14877, 39.03223], &quot;geometry&quot;: {&quot;coordinates&quot;: [-108.14877, 39.03223], &quot;type&quot;: &quot;Point&quot;}, &quot;id&quot;: &quot;53&quot;, &quot;properties&quot;: {&quot;latitude&quot;: 39.03223, &quot;longitude&quot;: -108.14877, &quot;value&quot;: 97.0}, &quot;type&quot;: &quot;Feature&quot;}, {&quot;bbox&quot;: [-108.1435, 39.01565, -108.1435, 39.01565], &quot;geometry&quot;: {&quot;coordinates&quot;: [-108.1435, 39.01565], &quot;type&quot;: &quot;Point&quot;}, &quot;id&quot;: &quot;54&quot;, &quot;properties&quot;: {&quot;latitude&quot;: 39.01565, &quot;longitude&quot;: -108.1435, &quot;value&quot;: 91.0}, &quot;type&quot;: &quot;Feature&quot;}, {&quot;bbox&quot;: [-108.17369, 39.02547, -108.17369, 39.02547], &quot;geometry&quot;: {&quot;coordinates&quot;: [-108.17369, 39.02547], &quot;type&quot;: &quot;Point&quot;}, &quot;id&quot;: &quot;55&quot;, &quot;properties&quot;: {&quot;latitude&quot;: 39.02547, &quot;longitude&quot;: -108.17369, &quot;value&quot;: 98.0}, &quot;type&quot;: &quot;Feature&quot;}, {&quot;bbox&quot;: [-108.21732, 39.06233, -108.21732, 39.06233], &quot;geometry&quot;: {&quot;coordinates&quot;: [-108.21732, 39.06233], &quot;type&quot;: &quot;Point&quot;}, &quot;id&quot;: &quot;56&quot;, &quot;properties&quot;: {&quot;latitude&quot;: 39.06233, &quot;longitude&quot;: -108.21732, &quot;value&quot;: 70.0}, &quot;type&quot;: &quot;Feature&quot;}, {&quot;bbox&quot;: [-108.19185, 39.02158, -108.19185, 39.02158], &quot;geometry&quot;: {&quot;coordinates&quot;: [-108.19185, 39.02158], &quot;type&quot;: &quot;Point&quot;}, &quot;id&quot;: &quot;57&quot;, &quot;properties&quot;: {&quot;latitude&quot;: 39.02158, &quot;longitude&quot;: -108.19185, &quot;value&quot;: 100.0}, &quot;type&quot;: &quot;Feature&quot;}, {&quot;bbox&quot;: [-108.18637, 39.03184, -108.18637, 39.03184], &quot;geometry&quot;: {&quot;coordinates&quot;: [-108.18637, 39.03184], &quot;type&quot;: &quot;Point&quot;}, &quot;id&quot;: &quot;58&quot;, &quot;properties&quot;: {&quot;latitude&quot;: 39.03184, &quot;longitude&quot;: -108.18637, &quot;value&quot;: 68.0}, &quot;type&quot;: &quot;Feature&quot;}, {&quot;bbox&quot;: [-108.17499, 39.02768, -108.17499, 39.02768], &quot;geometry&quot;: {&quot;coordinates&quot;: [-108.17499, 39.02768], &quot;type&quot;: &quot;Point&quot;}, &quot;id&quot;: &quot;59&quot;, &quot;properties&quot;: {&quot;latitude&quot;: 39.02768, &quot;longitude&quot;: -108.17499, &quot;value&quot;: 72.0}, &quot;type&quot;: &quot;Feature&quot;}, {&quot;bbox&quot;: [-108.20413, 39.05398, -108.20413, 39.05398], &quot;geometry&quot;: {&quot;coordinates&quot;: [-108.20413, 39.05398], &quot;type&quot;: &quot;Point&quot;}, &quot;id&quot;: &quot;60&quot;, &quot;properties&quot;: {&quot;latitude&quot;: 39.05398, &quot;longitude&quot;: -108.20413, &quot;value&quot;: 89.0}, &quot;type&quot;: &quot;Feature&quot;}, {&quot;bbox&quot;: [-108.16726, 39.01796, -108.16726, 39.01796], &quot;geometry&quot;: {&quot;coordinates&quot;: [-108.16726, 39.01796], &quot;type&quot;: &quot;Point&quot;}, &quot;id&quot;: &quot;61&quot;, &quot;properties&quot;: {&quot;latitude&quot;: 39.01796, &quot;longitude&quot;: -108.16726, &quot;value&quot;: 70.0}, &quot;type&quot;: &quot;Feature&quot;}, {&quot;bbox&quot;: [-108.17578, 39.02846, -108.17578, 39.02846], &quot;geometry&quot;: {&quot;coordinates&quot;: [-108.17578, 39.02846], &quot;type&quot;: &quot;Point&quot;}, &quot;id&quot;: &quot;62&quot;, &quot;properties&quot;: {&quot;latitude&quot;: 39.02846, &quot;longitude&quot;: -108.17578, &quot;value&quot;: 105.0}, &quot;type&quot;: &quot;Feature&quot;}, {&quot;bbox&quot;: [-108.21556, 39.06188, -108.21556, 39.06188], &quot;geometry&quot;: {&quot;coordinates&quot;: [-108.21556, 39.06188], &quot;type&quot;: &quot;Point&quot;}, &quot;id&quot;: &quot;63&quot;, &quot;properties&quot;: {&quot;latitude&quot;: 39.06188, &quot;longitude&quot;: -108.21556, &quot;value&quot;: 82.0}, &quot;type&quot;: &quot;Feature&quot;}, {&quot;bbox&quot;: [-108.17062, 39.03162, -108.17062, 39.03162], &quot;geometry&quot;: {&quot;coordinates&quot;: [-108.17062, 39.03162], &quot;type&quot;: &quot;Point&quot;}, &quot;id&quot;: &quot;64&quot;, &quot;properties&quot;: {&quot;latitude&quot;: 39.03162, &quot;longitude&quot;: -108.17062, &quot;value&quot;: 105.0}, &quot;type&quot;: &quot;Feature&quot;}, {&quot;bbox&quot;: [-108.20911, 39.05721, -108.20911, 39.05721], &quot;geometry&quot;: {&quot;coordinates&quot;: [-108.20911, 39.05721], &quot;type&quot;: &quot;Point&quot;}, &quot;id&quot;: &quot;65&quot;, &quot;properties&quot;: {&quot;latitude&quot;: 39.05721, &quot;longitude&quot;: -108.20911, &quot;value&quot;: 86.0}, &quot;type&quot;: &quot;Feature&quot;}, {&quot;bbox&quot;: [-108.21649, 39.062, -108.21649, 39.062], &quot;geometry&quot;: {&quot;coordinates&quot;: [-108.21649, 39.062], &quot;type&quot;: &quot;Point&quot;}, &quot;id&quot;: &quot;66&quot;, &quot;properties&quot;: {&quot;latitude&quot;: 39.062, &quot;longitude&quot;: -108.21649, &quot;value&quot;: 88.0}, &quot;type&quot;: &quot;Feature&quot;}, {&quot;bbox&quot;: [-108.22093, 39.03648, -108.22093, 39.03648], &quot;geometry&quot;: {&quot;coordinates&quot;: [-108.22093, 39.03648], &quot;type&quot;: &quot;Point&quot;}, &quot;id&quot;: &quot;67&quot;, &quot;properties&quot;: {&quot;latitude&quot;: 39.03648, &quot;longitude&quot;: -108.22093, &quot;value&quot;: 76.0}, &quot;type&quot;: &quot;Feature&quot;}, {&quot;bbox&quot;: [-108.18543, 39.03487, -108.18543, 39.03487], &quot;geometry&quot;: {&quot;coordinates&quot;: [-108.18543, 39.03487], &quot;type&quot;: &quot;Point&quot;}, &quot;id&quot;: &quot;68&quot;, &quot;properties&quot;: {&quot;latitude&quot;: 39.03487, &quot;longitude&quot;: -108.18543, &quot;value&quot;: 100.0}, &quot;type&quot;: &quot;Feature&quot;}, {&quot;bbox&quot;: [-108.06203, 39.04416, -108.06203, 39.04416], &quot;geometry&quot;: {&quot;coordinates&quot;: [-108.06203, 39.04416], &quot;type&quot;: &quot;Point&quot;}, &quot;id&quot;: &quot;69&quot;, &quot;properties&quot;: {&quot;latitude&quot;: 39.04416, &quot;longitude&quot;: -108.06203, &quot;value&quot;: 103.0}, &quot;type&quot;: &quot;Feature&quot;}, {&quot;bbox&quot;: [-108.17678, 39.02677, -108.17678, 39.02677], &quot;geometry&quot;: {&quot;coordinates&quot;: [-108.17678, 39.02677], &quot;type&quot;: &quot;Point&quot;}, &quot;id&quot;: &quot;70&quot;, &quot;properties&quot;: {&quot;latitude&quot;: 39.02677, &quot;longitude&quot;: -108.17678, &quot;value&quot;: 78.0}, &quot;type&quot;: &quot;Feature&quot;}, {&quot;bbox&quot;: [-108.18731, 39.0321, -108.18731, 39.0321], &quot;geometry&quot;: {&quot;coordinates&quot;: [-108.18731, 39.0321], &quot;type&quot;: &quot;Point&quot;}, &quot;id&quot;: &quot;71&quot;, &quot;properties&quot;: {&quot;latitude&quot;: 39.0321, &quot;longitude&quot;: -108.18731, &quot;value&quot;: 103.0}, &quot;type&quot;: &quot;Feature&quot;}, {&quot;bbox&quot;: [-108.15111, 39.03161, -108.15111, 39.03161], &quot;geometry&quot;: {&quot;coordinates&quot;: [-108.15111, 39.03161], &quot;type&quot;: &quot;Point&quot;}, &quot;id&quot;: &quot;72&quot;, &quot;properties&quot;: {&quot;latitude&quot;: 39.03161, &quot;longitude&quot;: -108.15111, &quot;value&quot;: 95.0}, &quot;type&quot;: &quot;Feature&quot;}, {&quot;bbox&quot;: [-108.19984, 39.03312, -108.19984, 39.03312], &quot;geometry&quot;: {&quot;coordinates&quot;: [-108.19984, 39.03312], &quot;type&quot;: &quot;Point&quot;}, &quot;id&quot;: &quot;73&quot;, &quot;properties&quot;: {&quot;latitude&quot;: 39.03312, &quot;longitude&quot;: -108.19984, &quot;value&quot;: 85.0}, &quot;type&quot;: &quot;Feature&quot;}, {&quot;bbox&quot;: [-108.19841, 39.04722, -108.19841, 39.04722], &quot;geometry&quot;: {&quot;coordinates&quot;: [-108.19841, 39.04722], &quot;type&quot;: &quot;Point&quot;}, &quot;id&quot;: &quot;74&quot;, &quot;properties&quot;: {&quot;latitude&quot;: 39.04722, &quot;longitude&quot;: -108.19841, &quot;value&quot;: 81.0}, &quot;type&quot;: &quot;Feature&quot;}, {&quot;bbox&quot;: [-108.22024, 39.06429, -108.22024, 39.06429], &quot;geometry&quot;: {&quot;coordinates&quot;: [-108.22024, 39.06429], &quot;type&quot;: &quot;Point&quot;}, &quot;id&quot;: &quot;75&quot;, &quot;properties&quot;: {&quot;latitude&quot;: 39.06429, &quot;longitude&quot;: -108.22024, &quot;value&quot;: 77.0}, &quot;type&quot;: &quot;Feature&quot;}, {&quot;bbox&quot;: [-108.16211, 39.03143, -108.16211, 39.03143], &quot;geometry&quot;: {&quot;coordinates&quot;: [-108.16211, 39.03143], &quot;type&quot;: &quot;Point&quot;}, &quot;id&quot;: &quot;76&quot;, &quot;properties&quot;: {&quot;latitude&quot;: 39.03143, &quot;longitude&quot;: -108.16211, &quot;value&quot;: 117.0}, &quot;type&quot;: &quot;Feature&quot;}, {&quot;bbox&quot;: [-108.14044, 39.02902, -108.14044, 39.02902], &quot;geometry&quot;: {&quot;coordinates&quot;: [-108.14044, 39.02902], &quot;type&quot;: &quot;Point&quot;}, &quot;id&quot;: &quot;77&quot;, &quot;properties&quot;: {&quot;latitude&quot;: 39.02902, &quot;longitude&quot;: -108.14044, &quot;value&quot;: 81.0}, &quot;type&quot;: &quot;Feature&quot;}, {&quot;bbox&quot;: [-108.06316, 39.04496, -108.06316, 39.04496], &quot;geometry&quot;: {&quot;coordinates&quot;: [-108.06316, 39.04496], &quot;type&quot;: &quot;Point&quot;}, &quot;id&quot;: &quot;78&quot;, &quot;properties&quot;: {&quot;latitude&quot;: 39.04496, &quot;longitude&quot;: -108.06316, &quot;value&quot;: 74.0}, &quot;type&quot;: &quot;Feature&quot;}, {&quot;bbox&quot;: [-108.17169, 39.03044, -108.17169, 39.03044], &quot;geometry&quot;: {&quot;coordinates&quot;: [-108.17169, 39.03044], &quot;type&quot;: &quot;Point&quot;}, &quot;id&quot;: &quot;79&quot;, &quot;properties&quot;: {&quot;latitude&quot;: 39.03044, &quot;longitude&quot;: -108.17169, &quot;value&quot;: 102.0}, &quot;type&quot;: &quot;Feature&quot;}, {&quot;bbox&quot;: [-108.17151, 39.02403, -108.17151, 39.02403], &quot;geometry&quot;: {&quot;coordinates&quot;: [-108.17151, 39.02403], &quot;type&quot;: &quot;Point&quot;}, &quot;id&quot;: &quot;80&quot;, &quot;properties&quot;: {&quot;latitude&quot;: 39.02403, &quot;longitude&quot;: -108.17151, &quot;value&quot;: 104.0}, &quot;type&quot;: &quot;Feature&quot;}, {&quot;bbox&quot;: [-108.17136, 39.02002, -108.17136, 39.02002], &quot;geometry&quot;: {&quot;coordinates&quot;: [-108.17136, 39.02002], &quot;type&quot;: &quot;Point&quot;}, &quot;id&quot;: &quot;81&quot;, &quot;properties&quot;: {&quot;latitude&quot;: 39.02002, &quot;longitude&quot;: -108.17136, &quot;value&quot;: 101.0}, &quot;type&quot;: &quot;Feature&quot;}, {&quot;bbox&quot;: [-108.03187, 39.03045, -108.03187, 39.03045], &quot;geometry&quot;: {&quot;coordinates&quot;: [-108.03187, 39.03045], &quot;type&quot;: &quot;Point&quot;}, &quot;id&quot;: &quot;82&quot;, &quot;properties&quot;: {&quot;latitude&quot;: 39.03045, &quot;longitude&quot;: -108.03187, &quot;value&quot;: 120.0}, &quot;type&quot;: &quot;Feature&quot;}, {&quot;bbox&quot;: [-108.21963, 39.03441, -108.21963, 39.03441], &quot;geometry&quot;: {&quot;coordinates&quot;: [-108.21963, 39.03441], &quot;type&quot;: &quot;Point&quot;}, &quot;id&quot;: &quot;83&quot;, &quot;properties&quot;: {&quot;latitude&quot;: 39.03441, &quot;longitude&quot;: -108.21963, &quot;value&quot;: 112.0}, &quot;type&quot;: &quot;Feature&quot;}, {&quot;bbox&quot;: [-108.12462, 39.0161, -108.12462, 39.0161], &quot;geometry&quot;: {&quot;coordinates&quot;: [-108.12462, 39.0161], &quot;type&quot;: &quot;Point&quot;}, &quot;id&quot;: &quot;84&quot;, &quot;properties&quot;: {&quot;latitude&quot;: 39.0161, &quot;longitude&quot;: -108.12462, &quot;value&quot;: 101.0}, &quot;type&quot;: &quot;Feature&quot;}, {&quot;bbox&quot;: [-108.13745, 39.02956, -108.13745, 39.02956], &quot;geometry&quot;: {&quot;coordinates&quot;: [-108.13745, 39.02956], &quot;type&quot;: &quot;Point&quot;}, &quot;id&quot;: &quot;85&quot;, &quot;properties&quot;: {&quot;latitude&quot;: 39.02956, &quot;longitude&quot;: -108.13745, &quot;value&quot;: 70.0}, &quot;type&quot;: &quot;Feature&quot;}, {&quot;bbox&quot;: [-108.17203, 39.02434, -108.17203, 39.02434], &quot;geometry&quot;: {&quot;coordinates&quot;: [-108.17203, 39.02434], &quot;type&quot;: &quot;Point&quot;}, &quot;id&quot;: &quot;86&quot;, &quot;properties&quot;: {&quot;latitude&quot;: 39.02434, &quot;longitude&quot;: -108.17203, &quot;value&quot;: 93.0}, &quot;type&quot;: &quot;Feature&quot;}, {&quot;bbox&quot;: [-108.18323, 39.03273, -108.18323, 39.03273], &quot;geometry&quot;: {&quot;coordinates&quot;: [-108.18323, 39.03273], &quot;type&quot;: &quot;Point&quot;}, &quot;id&quot;: &quot;87&quot;, &quot;properties&quot;: {&quot;latitude&quot;: 39.03273, &quot;longitude&quot;: -108.18323, &quot;value&quot;: 107.0}, &quot;type&quot;: &quot;Feature&quot;}, {&quot;bbox&quot;: [-108.18568, 39.03294, -108.18568, 39.03294], &quot;geometry&quot;: {&quot;coordinates&quot;: [-108.18568, 39.03294], &quot;type&quot;: &quot;Point&quot;}, &quot;id&quot;: &quot;88&quot;, &quot;properties&quot;: {&quot;latitude&quot;: 39.03294, &quot;longitude&quot;: -108.18568, &quot;value&quot;: 113.0}, &quot;type&quot;: &quot;Feature&quot;}, {&quot;bbox&quot;: [-108.17637, 39.01916, -108.17637, 39.01916], &quot;geometry&quot;: {&quot;coordinates&quot;: [-108.17637, 39.01916], &quot;type&quot;: &quot;Point&quot;}, &quot;id&quot;: &quot;89&quot;, &quot;properties&quot;: {&quot;latitude&quot;: 39.01916, &quot;longitude&quot;: -108.17637, &quot;value&quot;: 92.0}, &quot;type&quot;: &quot;Feature&quot;}, {&quot;bbox&quot;: [-108.20379, 39.05538, -108.20379, 39.05538], &quot;geometry&quot;: {&quot;coordinates&quot;: [-108.20379, 39.05538], &quot;type&quot;: &quot;Point&quot;}, &quot;id&quot;: &quot;90&quot;, &quot;properties&quot;: {&quot;latitude&quot;: 39.05538, &quot;longitude&quot;: -108.20379, &quot;value&quot;: 117.0}, &quot;type&quot;: &quot;Feature&quot;}, {&quot;bbox&quot;: [-108.17616, 39.0308, -108.17616, 39.0308], &quot;geometry&quot;: {&quot;coordinates&quot;: [-108.17616, 39.0308], &quot;type&quot;: &quot;Point&quot;}, &quot;id&quot;: &quot;91&quot;, &quot;properties&quot;: {&quot;latitude&quot;: 39.0308, &quot;longitude&quot;: -108.17616, &quot;value&quot;: 119.0}, &quot;type&quot;: &quot;Feature&quot;}, {&quot;bbox&quot;: [-108.16212, 39.03285, -108.16212, 39.03285], &quot;geometry&quot;: {&quot;coordinates&quot;: [-108.16212, 39.03285], &quot;type&quot;: &quot;Point&quot;}, &quot;id&quot;: &quot;92&quot;, &quot;properties&quot;: {&quot;latitude&quot;: 39.03285, &quot;longitude&quot;: -108.16212, &quot;value&quot;: 115.0}, &quot;type&quot;: &quot;Feature&quot;}, {&quot;bbox&quot;: [-108.13405, 39.02962, -108.13405, 39.02962], &quot;geometry&quot;: {&quot;coordinates&quot;: [-108.13405, 39.02962], &quot;type&quot;: &quot;Point&quot;}, &quot;id&quot;: &quot;93&quot;, &quot;properties&quot;: {&quot;latitude&quot;: 39.02962, &quot;longitude&quot;: -108.13405, &quot;value&quot;: 113.0}, &quot;type&quot;: &quot;Feature&quot;}, {&quot;bbox&quot;: [-108.19862, 39.01911, -108.19862, 39.01911], &quot;geometry&quot;: {&quot;coordinates&quot;: [-108.19862, 39.01911], &quot;type&quot;: &quot;Point&quot;}, &quot;id&quot;: &quot;94&quot;, &quot;properties&quot;: {&quot;latitude&quot;: 39.01911, &quot;longitude&quot;: -108.19862, &quot;value&quot;: 108.0}, &quot;type&quot;: &quot;Feature&quot;}, {&quot;bbox&quot;: [-108.20975, 39.03596, -108.20975, 39.03596], &quot;geometry&quot;: {&quot;coordinates&quot;: [-108.20975, 39.03596], &quot;type&quot;: &quot;Point&quot;}, &quot;id&quot;: &quot;95&quot;, &quot;properties&quot;: {&quot;latitude&quot;: 39.03596, &quot;longitude&quot;: -108.20975, &quot;value&quot;: 92.0}, &quot;type&quot;: &quot;Feature&quot;}, {&quot;bbox&quot;: [-108.18948, 39.03126, -108.18948, 39.03126], &quot;geometry&quot;: {&quot;coordinates&quot;: [-108.18948, 39.03126], &quot;type&quot;: &quot;Point&quot;}, &quot;id&quot;: &quot;96&quot;, &quot;properties&quot;: {&quot;latitude&quot;: 39.03126, &quot;longitude&quot;: -108.18948, &quot;value&quot;: 35.0}, &quot;type&quot;: &quot;Feature&quot;}, {&quot;bbox&quot;: [-108.15596, 39.01843, -108.15596, 39.01843], &quot;geometry&quot;: {&quot;coordinates&quot;: [-108.15596, 39.01843], &quot;type&quot;: &quot;Point&quot;}, &quot;id&quot;: &quot;97&quot;, &quot;properties&quot;: {&quot;latitude&quot;: 39.01843, &quot;longitude&quot;: -108.15596, &quot;value&quot;: 101.0}, &quot;type&quot;: &quot;Feature&quot;}, {&quot;bbox&quot;: [-108.14158, 39.01437, -108.14158, 39.01437], &quot;geometry&quot;: {&quot;coordinates&quot;: [-108.14158, 39.01437], &quot;type&quot;: &quot;Point&quot;}, &quot;id&quot;: &quot;98&quot;, &quot;properties&quot;: {&quot;latitude&quot;: 39.01437, &quot;longitude&quot;: -108.14158, &quot;value&quot;: 102.0}, &quot;type&quot;: &quot;Feature&quot;}, {&quot;bbox&quot;: [-108.00313, 39.03918, -108.00313, 39.03918], &quot;geometry&quot;: {&quot;coordinates&quot;: [-108.00313, 39.03918], &quot;type&quot;: &quot;Point&quot;}, &quot;id&quot;: &quot;99&quot;, &quot;properties&quot;: {&quot;latitude&quot;: 39.03918, &quot;longitude&quot;: -108.00313, &quot;value&quot;: 115.0}, &quot;type&quot;: &quot;Feature&quot;}], &quot;type&quot;: &quot;FeatureCollection&quot;});\n",
       "\n",
       "        \n",
       "    \n",
       "    geo_json_b5da63b7d92d7b29ec39947a4c253ff8.bindTooltip(\n",
       "    function(layer){\n",
       "    let div = L.DomUtil.create(&#x27;div&#x27;);\n",
       "    \n",
       "    let handleObject = feature=&gt;typeof(feature)==&#x27;object&#x27; ? JSON.stringify(feature) : feature;\n",
       "    let fields = [&quot;value&quot;, &quot;longitude&quot;, &quot;latitude&quot;];\n",
       "    let aliases = [&quot;value&quot;, &quot;longitude&quot;, &quot;latitude&quot;];\n",
       "    let table = &#x27;&lt;table&gt;&#x27; +\n",
       "        String(\n",
       "        fields.map(\n",
       "        (v,i)=&gt;\n",
       "        `&lt;tr&gt;\n",
       "            &lt;th&gt;${aliases[i]}&lt;/th&gt;\n",
       "            \n",
       "            &lt;td&gt;${handleObject(layer.feature.properties[v])}&lt;/td&gt;\n",
       "        &lt;/tr&gt;`).join(&#x27;&#x27;))\n",
       "    +&#x27;&lt;/table&gt;&#x27;;\n",
       "    div.innerHTML=table;\n",
       "    \n",
       "    return div\n",
       "    }\n",
       "    ,{&quot;className&quot;: &quot;foliumtooltip&quot;, &quot;sticky&quot;: true});\n",
       "                     \n",
       "    \n",
       "            geo_json_b5da63b7d92d7b29ec39947a4c253ff8.addTo(map_90d6e5f0ec2ea3dfee9ff20fb00e2328);\n",
       "        \n",
       "&lt;/script&gt;\n",
       "&lt;/html&gt;\" style=\"position:absolute;width:100%;height:100%;left:0;top:0;border:none !important;\" allowfullscreen webkitallowfullscreen mozallowfullscreen></iframe></div></div>"
      ],
      "text/plain": [
       "<folium.folium.Map at 0x7fde1b5dcd10>"
      ]
     },
     "execution_count": 10,
     "metadata": {},
     "output_type": "execute_result"
    }
   ],
   "source": [
    "gdf.explore()"
   ]
  },
  {
   "cell_type": "code",
   "execution_count": null,
   "id": "1d9f4a90-55a2-495b-a62c-0fbed6d710ce",
   "metadata": {},
   "outputs": [],
   "source": []
  }
 ],
 "metadata": {
  "kernelspec": {
   "display_name": "Python 3 (ipykernel)",
   "language": "python",
   "name": "python3"
  },
  "language_info": {
   "codemirror_mode": {
    "name": "ipython",
    "version": 3
   },
   "file_extension": ".py",
   "mimetype": "text/x-python",
   "name": "python",
   "nbconvert_exporter": "python",
   "pygments_lexer": "ipython3",
   "version": "3.11.9"
  }
 },
 "nbformat": 4,
 "nbformat_minor": 5
}
